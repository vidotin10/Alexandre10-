{
  "nbformat": 4,
  "nbformat_minor": 0,
  "metadata": {
    "colab": {
      "provenance": [],
      "authorship_tag": "ABX9TyMhRrz/h52lgf2cZiJas99w",
      "include_colab_link": true
    },
    "kernelspec": {
      "name": "python3",
      "display_name": "Python 3"
    },
    "language_info": {
      "name": "python"
    }
  },
  "cells": [
    {
      "cell_type": "markdown",
      "metadata": {
        "id": "view-in-github",
        "colab_type": "text"
      },
      "source": [
        "<a href=\"https://colab.research.google.com/github/vidotin10/Alexandre10-/blob/main/Untitled6.ipynb\" target=\"_parent\"><img src=\"https://colab.research.google.com/assets/colab-badge.svg\" alt=\"Open In Colab\"/></a>"
      ]
    },
    {
      "cell_type": "markdown",
      "source": [
        "Lista de exercicío em dupla valendo nota.\n",
        "Alexandre vidoto pereira / Pedro Henrique Ferreira Piana"
      ],
      "metadata": {
        "id": "dHupZnCrygKm"
      }
    },
    {
      "cell_type": "code",
      "execution_count": null,
      "metadata": {
        "colab": {
          "base_uri": "https://localhost:8080/"
        },
        "id": "fxzURPsLXYPO",
        "outputId": "967c52ee-11bc-42ae-bddf-299dca68f3ae"
      },
      "outputs": [
        {
          "output_type": "stream",
          "name": "stdout",
          "text": [
            "Digite um número: 50\n",
            "50.0 não é menor que 50.\n"
          ]
        }
      ],
      "source": [
        "#1. Peça um número ao usuário e verifique se ele é menor que 50. Informe o resultado com uma mensagem.\n",
        "numero = float(input(\"Digite um número: \"))\n",
        "if numero < 50:\n",
        "  print(f\"{numero } é maior que 50.\")\n",
        "else:\n",
        "  print(f\"{numero} não é menor que 50.\")\n",
        "\n"
      ]
    },
    {
      "cell_type": "code",
      "source": [
        "#2. Solicite um número ao usuário e informe se ele é divisível por 7. Para isso, utilize uma verificação simples.\n",
        "numero = float(input(\"Digite um número: \"))\n",
        "if numero % 7 == 0:\n",
        "  print(f\"{numero} é divisível por 7.\")\n",
        "else:\n",
        "  print(f\"{numero} não é divisível por 7.\")"
      ],
      "metadata": {
        "colab": {
          "base_uri": "https://localhost:8080/"
        },
        "id": "TjnUBgA1h8_r",
        "outputId": "84e85595-de18-4bcb-e7ab-b23fde445ee2"
      },
      "execution_count": null,
      "outputs": [
        {
          "output_type": "stream",
          "name": "stdout",
          "text": [
            "Digite um número: 7\n",
            "7.0 é divisível por 7.\n"
          ]
        }
      ]
    },
    {
      "cell_type": "code",
      "source": [
        "#3. Peça um nome ao usuário e verifique se ele contém a letra \"o\". Exiba uma mensagem informando o resultado.\n",
        "nome = input(\"Digite um nome: \")\n",
        "if \"o\" in nome:\n",
        "  print(f\"{nome} contém a letra 'o'.\")\n",
        "else:\n",
        "  print(f\"{nome} não contém a letra 'o'.\")"
      ],
      "metadata": {
        "colab": {
          "base_uri": "https://localhost:8080/"
        },
        "id": "vRl5MPdaiJrK",
        "outputId": "ef32f0ab-20c2-4d0d-c66d-8e743a60fcef"
      },
      "execution_count": null,
      "outputs": [
        {
          "output_type": "stream",
          "name": "stdout",
          "text": [
            "Digite um nome: alexandre\n",
            "alexandre não contém a letra 'o'.\n"
          ]
        }
      ]
    },
    {
      "cell_type": "code",
      "source": [
        "#4. Solicite um número inteiro e verifique se ele termina em 0. Utilize operações matemáticas para essa verificação.\n",
        "numero= int(input(\"Digite um número inteiro: \"))\n",
        "if numero % 10 == 0:\n",
        "  print(f\"{numero} termina em 0.\")\n",
        "else:\n",
        "  print(f\"{numero} não termina em 0.\")"
      ],
      "metadata": {
        "colab": {
          "base_uri": "https://localhost:8080/"
        },
        "id": "t9_j2LixilJK",
        "outputId": "e556c744-529d-4266-c975-5c976bd7450e"
      },
      "execution_count": null,
      "outputs": [
        {
          "output_type": "stream",
          "name": "stdout",
          "text": [
            "Digite um número inteiro: 12\n",
            "12 não termina em 0.\n"
          ]
        }
      ]
    },
    {
      "cell_type": "code",
      "source": [
        "#5. Peça a idade de uma pessoa e informe se ela tem idade suficiente para votar (considerando 16 anos como idade mínima).\n",
        "idade = int(input(\"Digite a idade da pessoa:\"))\n",
        "if idade >= 16:\n",
        "  print(f\"A pessoa tem {idade} anos e é maior de idade para votar.\")\n",
        "else:\n",
        "  print(f\"A pessoa tem {idade} anos e não é maior de idade para votar.\")"
      ],
      "metadata": {
        "colab": {
          "base_uri": "https://localhost:8080/"
        },
        "id": "2ZTxYLmFjlLF",
        "outputId": "d506f3d5-eff6-4710-b277-9c12157b0f71"
      },
      "execution_count": null,
      "outputs": [
        {
          "output_type": "stream",
          "name": "stdout",
          "text": [
            "Digite a idade da pessoa:15\n",
            "A pessoa tem 15 anos e não é maior de idade para votar.\n"
          ]
        }
      ]
    },
    {
      "cell_type": "code",
      "source": [
        "#6. Solicite ao usuário que digite um único caractere e informe se ele é uma vogal (a, e, i, o, u).\n",
        "caractere = input(\"Digite um caractere: \")\n",
        "if caractere.lower() in \"aeiou\":\n",
        "  print(f\"{caractere} é uma vogal.\")\n",
        "else:\n",
        "  print(f\"{caractere} não é uma vogal.\")"
      ],
      "metadata": {
        "colab": {
          "base_uri": "https://localhost:8080/"
        },
        "id": "JlcDDg1QkHf_",
        "outputId": "63458b23-7ba7-4075-f4af-e56c1f2433ff"
      },
      "execution_count": null,
      "outputs": [
        {
          "output_type": "stream",
          "name": "stdout",
          "text": [
            "Digite um caractere: i\n",
            "i é uma vogal.\n"
          ]
        }
      ]
    },
    {
      "cell_type": "code",
      "source": [
        "#7. Peça a temperatura atual em graus Celsius e classifique-a como \"abaixo de zero\", \"entre 0°C e 20°C\" ou \"acima de 20°C\".\n",
        "temperatura = float(input(\"Digite a temperatura em graus Celsius: \"))\n",
        "if temperatura < 0:\n",
        "  print(\"A temperatura é abaixo de zero.\")\n",
        "elif 0 <= temperatura <= 20:\n",
        "  print(\"A temperatura está entre 0°C e 20°C.\")\n",
        "else:\n",
        "  print(\"A temperatura é acima de 20°C.\")"
      ],
      "metadata": {
        "id": "3IU_Gqt9kcWm",
        "colab": {
          "base_uri": "https://localhost:8080/"
        },
        "outputId": "6dc60a2a-1486-4bb7-c480-89d8b60e66e4"
      },
      "execution_count": null,
      "outputs": [
        {
          "output_type": "stream",
          "name": "stdout",
          "text": [
            "Digite a temperatura em graus Celsius: -1\n",
            "A temperatura é abaixo de zero.\n"
          ]
        }
      ]
    },
    {
      "cell_type": "code",
      "source": [
        "#8. Solicite um número e informe se ele é maior que 1000. Exiba uma mensagem apropriada.\n",
        "numero = float(input(\"Digite um número: \"))\n",
        "if numero > 1000:\n",
        "  print(f\"{numero} é maior que 1000.\")\n",
        "else:\n",
        "  print(f\"{numero} não é maior que 1000.\")"
      ],
      "metadata": {
        "colab": {
          "base_uri": "https://localhost:8080/"
        },
        "id": "bAXekHqLE55w",
        "outputId": "d2c689c8-017a-4cc8-ab1a-fc8c92123672"
      },
      "execution_count": null,
      "outputs": [
        {
          "output_type": "stream",
          "name": "stdout",
          "text": [
            "Digite um número: 100\n",
            "100.0 não é maior que 1000.\n"
          ]
        }
      ]
    },
    {
      "cell_type": "code",
      "source": [
        "#9. Peça um valor em reais e informe se ele é múltiplo de 50, ou seja, se o valor pode ser pago apenas com notas de R$50,00.\n",
        "valor = float(input(\"Digite um valor em reais: \"))\n",
        "if valor % 50 == 0:\n",
        "  print(f\"{valor} é múltiplo de 50, ou seja, pode ser pago apenas com notas de R$50,00 \")\n",
        "else:\n",
        "  print(f\"{valor} não é múltiplo de 50, ou seja, não pode ser pago apenas com notas de R$50,00\")\n"
      ],
      "metadata": {
        "colab": {
          "base_uri": "https://localhost:8080/"
        },
        "id": "CPmMxMsEGVSk",
        "outputId": "6b2d9056-88bf-4534-ff6e-42590553fa3e"
      },
      "execution_count": null,
      "outputs": [
        {
          "output_type": "stream",
          "name": "stdout",
          "text": [
            "Digite um valor em reais: 100\n",
            "100.0 é múltiplo de 50, ou seja, pode ser pago apenas com notas de R$50,00 \n"
          ]
        }
      ]
    },
    {
      "cell_type": "code",
      "source": [
        "#10. Solicite um número ao usuário e verifique se ele está no intervalo entre 100 e 200 (inclusive). Informe o resultado.\n",
        "numero = float(input(\"Digite um número:\"))\n",
        "if 100 <= numero <= 200:\n",
        "  print(f\"{numero} está no intervalo entre 100 e 200.\")\n",
        "else:\n",
        "  print(f\" {numero} não esta no intervalo entre 100 a 200.\")\n"
      ],
      "metadata": {
        "colab": {
          "base_uri": "https://localhost:8080/"
        },
        "id": "EvcJ0awEHyfe",
        "outputId": "4c9caa55-2426-4878-8b0f-2d2eefaf027d"
      },
      "execution_count": null,
      "outputs": [
        {
          "output_type": "stream",
          "name": "stdout",
          "text": [
            "Digite um número:180\n",
            "180.0 está no intervalo entre 100 e 200.\n"
          ]
        }
      ]
    },
    {
      "cell_type": "code",
      "source": [
        "#11. Peça a altura de uma árvore em metros e informe se ela tem menos de 5 metros de altura.\n",
        "altura = float(input(\"Digite a altura da árvore em metros: \"))\n",
        "if altura < 5:\n",
        "  print(f\"A árvore tem menos de 5 metros de altura.\")\n",
        "else:\n",
        "  print(f\"A árvore tem {altura} metros de altura.\")"
      ],
      "metadata": {
        "colab": {
          "base_uri": "https://localhost:8080/"
        },
        "id": "T_x7w97HInGn",
        "outputId": "8ee67a72-a0d5-40c5-cad4-5e5087c3f7fa"
      },
      "execution_count": null,
      "outputs": [
        {
          "output_type": "stream",
          "name": "stdout",
          "text": [
            "Digite a altura da árvore em metros: 4\n",
            "A árvore tem menos de 5 metros de altura.\n"
          ]
        }
      ]
    },
    {
      "cell_type": "code",
      "source": [
        "#12. Solicite a temperatura de um líquido em graus Celsius e informe seu estado físico: \"congelado\" (≤0°C), \"líquido\" (0°C a 100°C) ou \"ebulição\" (>100°C).\n",
        "temperatura = float(input(\"Digite a temperatura do líquido em graus Celsius: \"))\n",
        "if temperatura <= 0:\n",
        "  print(\"O líquido está congelado.\")\n",
        "elif 0 < temperatura <= 100:\n",
        "  print(\"O líquido está em estado líquido.\")\n",
        "else:\n",
        "  print(\"O líquido está em estado de ebulição.\")"
      ],
      "metadata": {
        "colab": {
          "base_uri": "https://localhost:8080/"
        },
        "id": "0udhdbOuJukp",
        "outputId": "7e461c07-d09f-4b4a-920a-a97c674a5373"
      },
      "execution_count": null,
      "outputs": [
        {
          "output_type": "stream",
          "name": "stdout",
          "text": [
            "Digite a temperatura do líquido em graus Celsius: -3\n",
            "O líquido está congelado.\n"
          ]
        }
      ]
    },
    {
      "cell_type": "code",
      "source": [
        "#13. Peça um número inteiro e verifique se ele é múltiplo de 10. Mostre uma mensagem indicando o resultado.\n",
        "numero = int(input(\"Digite um número inteiro: \"))\n",
        "if numero % 10 == 0:\n",
        "  print(f\"{numero} é múltiplo de 10.\")\n",
        "else:\n",
        "  print(f\"{numero} não é múltiplo de 10.\")\n"
      ],
      "metadata": {
        "id": "3IHa7ri6KKZa",
        "colab": {
          "base_uri": "https://localhost:8080/"
        },
        "outputId": "bb975df1-6e23-449b-ad5a-d0395351c899"
      },
      "execution_count": null,
      "outputs": [
        {
          "output_type": "stream",
          "name": "stdout",
          "text": [
            "Digite um número inteiro: 2\n",
            "2 não é múltiplo de 10.\n"
          ]
        }
      ]
    },
    {
      "cell_type": "code",
      "source": [
        "#14. Solicite a nota final de dois alunos e exiba qual deles teve a maior pontuação.\n",
        "nota1 = float(input(\"Digite a nota do primeiro aluno: \"))\n",
        "nota2 = float(input(\"Digite a nota do segundo aluno: \"))\n",
        "if nota1 > nota2:\n",
        "  print(f\"O primeiro aluno teve a maior pontuação com {nota1} pontos.\")\n",
        "else:\n",
        "  print(f\"O segundo aluno teve a maior pontuação com {nota2} pontos\")\n"
      ],
      "metadata": {
        "colab": {
          "base_uri": "https://localhost:8080/"
        },
        "id": "8K7THS5sKTwK",
        "outputId": "51c42421-9064-483c-efc2-6a5087cc4461"
      },
      "execution_count": null,
      "outputs": [
        {
          "output_type": "stream",
          "name": "stdout",
          "text": [
            "Digite a nota do primeiro aluno: 17\n",
            "Digite a nota do segundo aluno: 18\n",
            "O segundo aluno teve a maior pontuação com 18.0 pontos\n"
          ]
        }
      ]
    },
    {
      "cell_type": "code",
      "source": [
        "#15. Peça o nome de uma fruta e verifique se ela contém a letra \"e\". Exiba o resultado.\n",
        "fruta = input(\"Digite o nome de uma fruta: \")\n",
        "if \"e\" in fruta:\n",
        "  print(f\"{fruta} contém a letra 'e'.\")\n",
        "else:\n",
        "  print(f\"{fruta} não contém a letra 'e'.\")"
      ],
      "metadata": {
        "colab": {
          "base_uri": "https://localhost:8080/"
        },
        "id": "sNJpFiMAqNOG",
        "outputId": "aec0d7c4-8492-46d6-dcd4-323cbfd753fb"
      },
      "execution_count": null,
      "outputs": [
        {
          "output_type": "stream",
          "name": "stdout",
          "text": [
            "Digite o nome de uma fruta: kiwi\n",
            "kiwi não contém a letra 'e'.\n"
          ]
        }
      ]
    },
    {
      "cell_type": "code",
      "source": [
        "#16. Peça a velocidade de um carro em km/h e informe se ela ultrapassa o limite de 80 km/h.\n",
        "velocidade = float(input(\"Digite a velocidade do carro em km/h: \"))\n",
        "if velocidade > 80:\n",
        "  print(f\"O carro está acima do limite de velocidade de 80 km/h.\")\n",
        "else:\n",
        "  print(f\"O carro está a baixo do limite de velocidade de 80 km/h.\")"
      ],
      "metadata": {
        "colab": {
          "base_uri": "https://localhost:8080/"
        },
        "id": "t_7tOxhv_kas",
        "outputId": "cfff4e82-973c-42da-bccd-0504c49c8c36"
      },
      "execution_count": null,
      "outputs": [
        {
          "output_type": "stream",
          "name": "stdout",
          "text": [
            "Digite a velocidade do carro em km/h: 50\n",
            "O carro está a baixo do limite de velocidade de 80 km/h.\n"
          ]
        }
      ]
    },
    {
      "cell_type": "code",
      "source": [
        "#17. Solicite um número ao usuário e informe se ele é divisível por 4 ou por 5. Exiba uma mensagem adequada.\n",
        "num = float(input(\"Digite um número:\"))\n",
        "if num % 4 == 0:\n",
        "  print(f\"{num} é divisível por 4.\")\n",
        "elif num % 5 == 0:\n",
        "  print(f\"{num} é divisível por 5.\")\n",
        "else:\n",
        "  print(f\"{num} não é divisível por 5.\")"
      ],
      "metadata": {
        "colab": {
          "base_uri": "https://localhost:8080/"
        },
        "id": "usn9KVJoAd8y",
        "outputId": "ecca7208-cf28-4b82-8306-c6aaf1a77497"
      },
      "execution_count": null,
      "outputs": [
        {
          "output_type": "stream",
          "name": "stdout",
          "text": [
            "Digite um número:40\n",
            "40.0 é divisível por 4.\n"
          ]
        }
      ]
    },
    {
      "cell_type": "code",
      "source": [
        "#18. Peça uma palavra ao usuário e verifique se ela contém a letra \"z\". Mostre uma mensagem informando o resultado.\n",
        "palavra = input(\"Digite uma palavra: \")\n",
        "if \"z\" in palavra:\n",
        "  print(f\"{palavra} contém a letra 'z'.\")\n",
        "else:\n",
        "  print(f\"{palavra} não contém a letra 'z'.\")\n"
      ],
      "metadata": {
        "colab": {
          "base_uri": "https://localhost:8080/"
        },
        "id": "iXuOD3tkBcDX",
        "outputId": "b2b50de3-b8b2-4f4c-edec-97beda223da0"
      },
      "execution_count": null,
      "outputs": [
        {
          "output_type": "stream",
          "name": "stdout",
          "text": [
            "Digite uma palavra: cobra\n",
            "cobra não contém a letra 'z'.\n"
          ]
        }
      ]
    },
    {
      "cell_type": "code",
      "source": [
        "#19. Solicite a quantidade de itens em um pedido e informe se ela é maior ou menor que 15 unidades.\n",
        "itens = int(input(\"Digite a quantidade de itens no pedido: \"))\n",
        "if itens < 15:\n",
        "  print(f\"O pedido é menor que 15.\")\n",
        "else:\n",
        "  print(f\"O pedido é menor que 15.\")\n",
        "\n"
      ],
      "metadata": {
        "colab": {
          "base_uri": "https://localhost:8080/"
        },
        "id": "qqfwVmVCB6sG",
        "outputId": "fdef67c2-e58c-49b7-d729-2a6145f2d003"
      },
      "execution_count": null,
      "outputs": [
        {
          "output_type": "stream",
          "name": "stdout",
          "text": [
            "Digite a quantidade de itens no pedido: 17\n",
            "O pedido é menor que 15.\n"
          ]
        }
      ]
    },
    {
      "cell_type": "code",
      "source": [
        "#20. Peça um número e verifique se ele termina com o dígito 7. Informe o resultado.\n",
        "numero = int(input(\"Digite um número: \"))\n",
        "if numero % 10 == 7:\n",
        "  print(f\"{numero} termina com o dígito 7.\")\n",
        "else:\n",
        "  print(f\"{numero} não termina com o dígito 7.\")"
      ],
      "metadata": {
        "colab": {
          "base_uri": "https://localhost:8080/"
        },
        "id": "LsBif_ZdDvKM",
        "outputId": "236c805b-594f-4b14-f569-dc010b8e7d1d"
      },
      "execution_count": null,
      "outputs": [
        {
          "output_type": "stream",
          "name": "stdout",
          "text": [
            "Digite um número: 27\n",
            "27 termina com o dígito 7.\n"
          ]
        }
      ]
    },
    {
      "cell_type": "code",
      "source": [
        "#21. Solicite o ano de fabricação de um veículo e informe se ele tem mais de 20 anos.\n",
        "ano = int(input(\"Digite o ano de fabricação do veículo: \"))\n",
        "if 2023 - ano > 20:\n",
        "  print(f\"O veículo tem mais de 20 anos.\")\n",
        "elif 2023 - ano == 20:\n",
        "  print(f\"O veículo tem 20 anos.\")\n",
        "else:\n",
        "  print(f\"O veículo tem menos de 20 anos.\")"
      ],
      "metadata": {
        "colab": {
          "base_uri": "https://localhost:8080/"
        },
        "id": "pHaPAaggEMxz",
        "outputId": "bcca8241-38f0-4ab5-c5e0-00921f025c76"
      },
      "execution_count": null,
      "outputs": [
        {
          "output_type": "stream",
          "name": "stdout",
          "text": [
            "Digite o ano de fabricação do veículo: 55\n",
            "O veículo tem mais de 20 anos.\n"
          ]
        }
      ]
    },
    {
      "cell_type": "code",
      "source": [
        "#22. Peça um número de telefone e verifique se ele contém o dígito 9. Exiba o resultado.\n",
        "num = (input(\"Digite um número de telefone: \"))\n",
        "if \"9\" in num:\n",
        "  print(f\"{num} contém o dígito 9.\")\n",
        "else:\n",
        "  print(f\"{num} não contém o dígito 9.\")\n"
      ],
      "metadata": {
        "colab": {
          "base_uri": "https://localhost:8080/"
        },
        "id": "4QKZYMkeE6cS",
        "outputId": "901ba1c1-2a8e-46a6-d198-08a7d2a1b2c6"
      },
      "execution_count": null,
      "outputs": [
        {
          "output_type": "stream",
          "name": "stdout",
          "text": [
            "Digite um número de telefone: 998212793\n",
            "998212793 contém o dígito 9.\n"
          ]
        }
      ]
    },
    {
      "cell_type": "code",
      "source": [
        "#23. Solicite um número e informe se ele possui exatamente 2 dígitos.\n",
        "numero = int(input(\"Digite um número: \"))\n",
        "if 10 < numero < 88:\n",
        "  print(f\"{numero} possui exatamente 2 dígitos.\")\n",
        "else:\n",
        "  print(f\"{numero} não possui exatamente 2 dígitos.\")"
      ],
      "metadata": {
        "colab": {
          "base_uri": "https://localhost:8080/"
        },
        "id": "9cQts3CRFQwc",
        "outputId": "b13db39e-ea6b-413e-f1c0-aabd10dab44b"
      },
      "execution_count": null,
      "outputs": [
        {
          "output_type": "stream",
          "name": "stdout",
          "text": [
            "Digite um número: 08\n",
            "8 não possui exatamente 2 dígitos.\n"
          ]
        }
      ]
    },
    {
      "cell_type": "code",
      "source": [
        "#24. Peça o preço de um ingresso e aplique um desconto de 15%. Verifique se o preço com desconto ainda é superior a R$50,00 e exiba uma mensagem informando o resultado.\n",
        "preço_ingresso = float(input(\"Digite o preço do ingresso: \"))\n",
        "preço_com_desconto = preço_ingresso * 0.85\n",
        "if preço_com_desconto > 50:\n",
        "  print(\"O preço do com desconto ainda é superior a R$50,00.\")\n",
        "else:\n",
        "  print(\"O preço com desconto não é superior a R$50,00.\")"
      ],
      "metadata": {
        "colab": {
          "base_uri": "https://localhost:8080/"
        },
        "id": "ji-RdCL_FpC7",
        "outputId": "7b6517ec-b784-4354-d53f-ab66c194f77f"
      },
      "execution_count": null,
      "outputs": [
        {
          "output_type": "stream",
          "name": "stdout",
          "text": [
            "Digite o preço do ingresso: 47\n",
            "O preço com desconto não é superior a R$50,00.\n"
          ]
        }
      ]
    },
    {
      "cell_type": "code",
      "source": [
        "#25. Solicite um número ao usuário e informe se ele é divisível por 8. Exiba o resultado.\n",
        "numero = int(input(\"Digite um número: \"))\n",
        "if numero % 8 == 0:\n",
        "  print(f\"{numero} é divisível por 8.\")\n",
        "else:\n",
        "  print(f\"{numero} não é divisível por 8.\")\n"
      ],
      "metadata": {
        "colab": {
          "base_uri": "https://localhost:8080/"
        },
        "id": "HRAN8j9CHh1U",
        "outputId": "9fd21795-dd61-47d8-aebf-aa66313c730c"
      },
      "execution_count": null,
      "outputs": [
        {
          "output_type": "stream",
          "name": "stdout",
          "text": [
            "Digite um número: 10\n",
            "10 não é divisível por 8.\n"
          ]
        }
      ]
    },
    {
      "cell_type": "code",
      "source": [
        "#26. Peça um número e verifique se ele é divisível tanto por 5 quanto por 9. Informe o resultado.\n",
        "numero = int(input(\"Digite um número: \"))\n",
        "if numero % 5 == 0 and numero % 9 == 0:\n",
        "  print(f\"{numero} é divisível por 5 e 9.\")\n",
        "else:\n",
        "  print(f\"{numero} não é divisível por 5 e por 9.\")\n"
      ],
      "metadata": {
        "colab": {
          "base_uri": "https://localhost:8080/"
        },
        "id": "2horm_CKHlkY",
        "outputId": "7e54f704-24d8-4779-dd50-925577450809"
      },
      "execution_count": null,
      "outputs": [
        {
          "output_type": "stream",
          "name": "stdout",
          "text": [
            "Digite um número: 80\n",
            "80 não é divisível por 5 e por 9.\n"
          ]
        }
      ]
    },
    {
      "cell_type": "code",
      "source": [
        "#27. Solicite o peso de um objeto em kg e informe se ele pesa mais de 25 kg.\n",
        "peso = float(input(\"Digite o peso do objeto em kg: \"))\n",
        "if peso > 25:\n",
        "  print(f\"O objeto pesa mais de 25 kg.\")\n",
        "else:\n",
        "  print(f\"O objeto não pesa mais de 25 kg.\")\n"
      ],
      "metadata": {
        "colab": {
          "base_uri": "https://localhost:8080/"
        },
        "id": "cgMAX5wsIY56",
        "outputId": "8ac3ddf0-24c2-404b-d30e-928003620c36"
      },
      "execution_count": null,
      "outputs": [
        {
          "output_type": "stream",
          "name": "stdout",
          "text": [
            "Digite o peso do objeto em kg: 20\n",
            "O objeto não pesa mais de 25 kg.\n"
          ]
        }
      ]
    },
    {
      "cell_type": "code",
      "source": [
        "#28. Peça uma letra ao usuário e informe se ela é uma vogal ou uma consoante. Considere letras minúsculas e maiúsculas.\n",
        "letra = input(\"Digite uma letra: \")\n",
        "if letra.lower() in \"aeiou\":\n",
        "  print(f\"A letra '{letra}' é uma vogal.\")\n",
        "else:\n",
        "  print(f\"A letra '{letra}' é uma consoante.\")\n"
      ],
      "metadata": {
        "colab": {
          "base_uri": "https://localhost:8080/"
        },
        "id": "3DhN1xtxI0Lx",
        "outputId": "bfe40319-41f4-4bc0-e5c1-015b75a2c1ff"
      },
      "execution_count": null,
      "outputs": [
        {
          "output_type": "stream",
          "name": "stdout",
          "text": [
            "Digite uma letra: h\n",
            "A letra 'h' é uma consoante.\n"
          ]
        }
      ]
    },
    {
      "cell_type": "code",
      "source": [
        "#29. Solicite a velocidade de um veículo e informe se ela está abaixo, dentro ou acima do limite de 60 km/h.\n",
        "velocidade = float(input(\"Digite a velocidade do veículo em km/h: \"))\n",
        "if velocidade < 60:\n",
        "  print(f\"A velocidade do veículo é abaixo do limite de 60 km/h.\")\n",
        "elif velocidade == 60:\n",
        "  print(\"A velocidade está dentro do limite.\")\n",
        "else:\n",
        "  print(\"A velocidade está acima do limite.\")\n"
      ],
      "metadata": {
        "colab": {
          "base_uri": "https://localhost:8080/"
        },
        "id": "nBqSxwmAJMp8",
        "outputId": "903eb9d4-c3d6-411b-8b81-c36422019cce"
      },
      "execution_count": null,
      "outputs": [
        {
          "output_type": "stream",
          "name": "stdout",
          "text": [
            "Digite a velocidade do veículo em km/h: 90\n",
            "A velocidade está acima do limite.\n"
          ]
        }
      ]
    },
    {
      "cell_type": "code",
      "source": [
        "#30. Peça um valor em reais ao usuário e verifique se ele é suficiente para comprar um produto que custa R$200,00. Exiba uma mensagem com a resposta.\n",
        "valor_em_reais = float(input(\"Digite o valor em reais que você possui: \"))\n",
        "if valor_em_reais >= 200:\n",
        "  print(\"O valor é suficiente para comprar o produto.\")\n",
        "else:\n",
        "  print(\"O valor não é suficiente para comprar o produto.\")"
      ],
      "metadata": {
        "colab": {
          "base_uri": "https://localhost:8080/"
        },
        "id": "sL-GIQWgJ4zS",
        "outputId": "a95282ff-93b9-49b0-ed22-f21b05192831"
      },
      "execution_count": null,
      "outputs": [
        {
          "output_type": "stream",
          "name": "stdout",
          "text": [
            "Digite o valor em reais que você possui: 10\n",
            "O valor não é suficiente para comprar o produto.\n"
          ]
        }
      ]
    }
  ]
}
