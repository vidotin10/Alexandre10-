{
  "nbformat": 4,
  "nbformat_minor": 0,
  "metadata": {
    "colab": {
      "provenance": [],
      "authorship_tag": "ABX9TyPpdh/OqGj45AnoWyeZJp85",
      "include_colab_link": true
    },
    "kernelspec": {
      "name": "python3",
      "display_name": "Python 3"
    },
    "language_info": {
      "name": "python"
    }
  },
  "cells": [
    {
      "cell_type": "markdown",
      "metadata": {
        "id": "view-in-github",
        "colab_type": "text"
      },
      "source": [
        "<a href=\"https://colab.research.google.com/github/vidotin10/Alexandre10-/blob/main/Untitled20.ipynb\" target=\"_parent\"><img src=\"https://colab.research.google.com/assets/colab-badge.svg\" alt=\"Open In Colab\"/></a>"
      ]
    },
    {
      "cell_type": "markdown",
      "source": [
        "Atividade Avaliativa: Alexandre Vidoto Pereira/Pedro Henrique ferreira Piana"
      ],
      "metadata": {
        "id": "_CE64KC7BiA4"
      }
    },
    {
      "cell_type": "code",
      "source": [
        "#1. Crie uma lista com 15 números inteiros digitados pelo usuário. Em seguida, remova todos os números repetidos, mantendo a ordem original.\n",
        "numeros = []\n",
        "for i in range(15):\n",
        "    numero = int(input(f\"Digite o {i+1}º número: \"))\n",
        "    numeros.append(numero)\n",
        "    numeros_unicos = list(set(numeros))\n",
        "    numeros_unicos.sort()\n",
        "    print(numeros_unicos)\n",
        "\n",
        "\n",
        "\n"
      ],
      "metadata": {
        "id": "chawrHLLbOAP",
        "colab": {
          "base_uri": "https://localhost:8080/"
        },
        "outputId": "612e256a-66a3-45f4-ea92-e3c06fd813d5"
      },
      "execution_count": null,
      "outputs": [
        {
          "output_type": "stream",
          "name": "stdout",
          "text": [
            "Digite o 1º número: 1\n",
            "[1]\n",
            "Digite o 2º número: 2\n",
            "[1, 2]\n",
            "Digite o 3º número: 3\n",
            "[1, 2, 3]\n",
            "Digite o 4º número: 4\n",
            "[1, 2, 3, 4]\n",
            "Digite o 5º número: 5\n",
            "[1, 2, 3, 4, 5]\n",
            "Digite o 6º número: 6\n",
            "[1, 2, 3, 4, 5, 6]\n",
            "Digite o 7º número: 7\n",
            "[1, 2, 3, 4, 5, 6, 7]\n",
            "Digite o 8º número: 8\n",
            "[1, 2, 3, 4, 5, 6, 7, 8]\n",
            "Digite o 9º número: 9\n",
            "[1, 2, 3, 4, 5, 6, 7, 8, 9]\n",
            "Digite o 10º número: 10\n",
            "[1, 2, 3, 4, 5, 6, 7, 8, 9, 10]\n",
            "Digite o 11º número: 11\n",
            "[1, 2, 3, 4, 5, 6, 7, 8, 9, 10, 11]\n",
            "Digite o 12º número: 12\n",
            "[1, 2, 3, 4, 5, 6, 7, 8, 9, 10, 11, 12]\n",
            "Digite o 13º número: 14\n",
            "[1, 2, 3, 4, 5, 6, 7, 8, 9, 10, 11, 12, 14]\n",
            "Digite o 14º número: 13\n",
            "[1, 2, 3, 4, 5, 6, 7, 8, 9, 10, 11, 12, 13, 14]\n",
            "Digite o 15º número: 0\n",
            "[0, 1, 2, 3, 4, 5, 6, 7, 8, 9, 10, 11, 12, 13, 14]\n"
          ]
        }
      ]
    },
    {
      "cell_type": "code",
      "source": [
        "#2. Escreva um programa que leia 10 nomes e 10 idades. Armazene os nomes em uma lista e as idades em outra. Em seguida, exiba o nome da pessoa mais velha.\n",
        "nomes = []\n",
        "idades = []\n",
        "for i in range(10):\n",
        "    nome = input(f\"Digite o nome da {i+1}ª pessoa: \")\n",
        "    idade = int(input(f\"Digite a idade de {nome}: \"))\n",
        "    nomes.append(nome)\n",
        "    idades.append(idade)\n",
        "maior_idade = max(idades)\n",
        "indice_maior = idades.index(maior_idade)\n",
        "nome_mais_velho = nomes[indice_maior]\n",
        "print(f\"A pessoa mais velha é: {nome_mais_velho} com {maior_idade} anos.\")"
      ],
      "metadata": {
        "colab": {
          "base_uri": "https://localhost:8080/"
        },
        "id": "uh1TGEHjC2-n",
        "outputId": "23b7e601-368b-49f5-a437-58dd2da3d083"
      },
      "execution_count": null,
      "outputs": [
        {
          "output_type": "stream",
          "name": "stdout",
          "text": [
            "Digite o nome da 1ª pessoa: alexandre\n",
            "Digite a idade de alexandre: 20\n",
            "Digite o nome da 2ª pessoa: jana\n",
            "Digite a idade de jana: 50\n",
            "Digite o nome da 3ª pessoa: celio\n",
            "Digite a idade de celio: 55\n",
            "Digite o nome da 4ª pessoa: matheus\n",
            "Digite a idade de matheus: 25\n",
            "Digite o nome da 5ª pessoa: filipe\n",
            "Digite a idade de filipe: 20\n",
            "Digite o nome da 6ª pessoa: ana \n",
            "Digite a idade de ana : 16\n",
            "Digite o nome da 7ª pessoa: leticia\n",
            "Digite a idade de leticia: 20\n",
            "Digite o nome da 8ª pessoa: arhtur\n",
            "Digite a idade de arhtur: 16\n",
            "Digite o nome da 9ª pessoa: luiz\n",
            "Digite a idade de luiz: 22\n",
            "Digite o nome da 10ª pessoa: pedro\n",
            "Digite a idade de pedro: 18\n",
            "A pessoa mais velha é: celio com 55 anos.\n"
          ]
        }
      ]
    },
    {
      "cell_type": "code",
      "source": [
        "#3. Faça um programa que leia uma lista de 10 números e divida todos os valores ímpares por 3 e os pares por 2, substituindo os valores originais.\n",
        "numeros = []\n",
        "for i in range(10):\n",
        "     num = int(input(f\"Digite o {i+1}º número: \"))\n",
        "if num % 2 == 0:\n",
        "        num = num / 2\n",
        "else:\n",
        "        num = num / 3\n",
        "numeros.append(num)\n",
        "print(numeros)\n"
      ],
      "metadata": {
        "colab": {
          "base_uri": "https://localhost:8080/"
        },
        "id": "0JiMkCYZECEP",
        "outputId": "3aeff5a8-f546-4f98-bae8-bad7c987856c"
      },
      "execution_count": null,
      "outputs": [
        {
          "output_type": "stream",
          "name": "stdout",
          "text": [
            "Digite o 1º número: 1\n",
            "Digite o 2º número: 2\n",
            "Digite o 3º número: 3\n",
            "Digite o 4º número: 4\n",
            "Digite o 5º número: 5\n",
            "Digite o 6º número: 6\n",
            "Digite o 7º número: 7\n",
            "Digite o 8º número: 8\n",
            "Digite o 9º número: 9\n",
            "Digite o 10º número: 10\n",
            "[5.0]\n"
          ]
        }
      ]
    },
    {
      "cell_type": "code",
      "source": [
        "#4. Solicite ao usuário uma frase. Armazene em uma lista cada palavra que começa com uma vogal. Exiba a lista resultante.\n",
        "frase = input(\"Digite uma frase: \")\n",
        "palavras = frase.split()\n",
        "vogais = ['a', 'e', 'i', 'o', 'u']\n",
        "palavras_comecando_com_vogal = []\n",
        "for palavra in palavras:\n",
        "    if palavra[0].lower() in vogais:\n",
        "        palavras_comecando_com_vogal.append(palavra)\n",
        "        print(palavras_comecando_com_vogal)\n"
      ],
      "metadata": {
        "colab": {
          "base_uri": "https://localhost:8080/"
        },
        "id": "yLgeU4btC553",
        "outputId": "445718e8-d8d1-4968-edbb-b75636afa404"
      },
      "execution_count": null,
      "outputs": [
        {
          "name": "stdout",
          "output_type": "stream",
          "text": [
            "Digite uma frase: faculdade\n"
          ]
        }
      ]
    },
    {
      "cell_type": "code",
      "source": [
        "#5. Leia 10 números inteiros e armazene-os em uma lista. Em seguida, crie uma segunda lista apenas com os números primos da primeira.\n",
        "numeros = [2,5,8,11,15,25,35,63,77,82]\n",
        "primos = [3,22,33,45,77,88,99,100,27,42]\n",
        "for i in range(10):\n",
        "    num = int(input(f\"Digite o {i+1}º número: \"))\n",
        "    numeros.append(num)\n",
        "\n",
        "for num in numeros:\n",
        "    if num > 1:\n",
        "        for i in range(2, num):\n",
        "            if (num % i) == 0:\n",
        "                break\n",
        "        else:\n",
        "            primos.append(num)\n",
        "            print(primos)\n",
        "\n",
        "\n"
      ],
      "metadata": {
        "colab": {
          "base_uri": "https://localhost:8080/"
        },
        "id": "68eU00YfHtaw",
        "outputId": "6559b5a3-da17-44db-bcd7-ea9b62c958a8"
      },
      "execution_count": null,
      "outputs": [
        {
          "output_type": "stream",
          "name": "stdout",
          "text": [
            "Digite o 1º número: 1\n",
            "Digite o 2º número: 2\n",
            "Digite o 3º número: 3\n",
            "Digite o 4º número: 4\n",
            "Digite o 5º número: 5\n",
            "Digite o 6º número: 6\n",
            "Digite o 7º número: 7\n",
            "Digite o 8º número: 8\n",
            "Digite o 9º número: 9\n",
            "Digite o 10º número: 0\n",
            "[3, 22, 33, 45, 77, 88, 99, 100, 27, 42, 2]\n",
            "[3, 22, 33, 45, 77, 88, 99, 100, 27, 42, 2, 5]\n",
            "[3, 22, 33, 45, 77, 88, 99, 100, 27, 42, 2, 5, 11]\n",
            "[3, 22, 33, 45, 77, 88, 99, 100, 27, 42, 2, 5, 11, 2]\n",
            "[3, 22, 33, 45, 77, 88, 99, 100, 27, 42, 2, 5, 11, 2, 3]\n",
            "[3, 22, 33, 45, 77, 88, 99, 100, 27, 42, 2, 5, 11, 2, 3, 5]\n",
            "[3, 22, 33, 45, 77, 88, 99, 100, 27, 42, 2, 5, 11, 2, 3, 5, 7]\n"
          ]
        }
      ]
    },
    {
      "cell_type": "code",
      "source": [
        "#6. Escreva um programa que leia uma lista de 8 elementos e verifique se ela é palíndroma (lê-se igual de trás para frente).\n",
        "lista = []\n",
        "for i in range(8):\n",
        "    elemento = input(f\"Digite o {i+1}º elemento: \")\n",
        "    lista.append(elemento)\n",
        "    if lista == lista[::-1]:\n",
        "     print(\"A lista é palíndroma.\")\n",
        "else:\n",
        "    print(\"A lista NÃO é palíndroma.\")"
      ],
      "metadata": {
        "colab": {
          "base_uri": "https://localhost:8080/"
        },
        "id": "2jWIEfdCH4yf",
        "outputId": "45a47b4b-7f22-408f-f327-53bb7ca52262"
      },
      "execution_count": null,
      "outputs": [
        {
          "output_type": "stream",
          "name": "stdout",
          "text": [
            "Digite o 1º elemento: 2\n",
            "A lista é palíndroma.\n",
            "Digite o 2º elemento: 3\n",
            "Digite o 3º elemento: 5\n",
            "Digite o 4º elemento: 7\n",
            "Digite o 5º elemento: 8\n",
            "Digite o 6º elemento: 1\n",
            "Digite o 7º elemento: 0\n",
            "Digite o 8º elemento: 4\n",
            "A lista NÃO é palíndroma.\n"
          ]
        }
      ]
    },
    {
      "cell_type": "code",
      "source": [
        "#7. Crie duas listas com 10 números inteiros aleatórios entre 1 e 100. Gere uma terceira lista contendo apenas os elementos que estão presentes em ambas (interseção).\n",
        "import random\n",
        "lista1 = [1,5,7,10,12,20,22,55,100,88]\n",
        "lista2 = [2,11,9,77,55,99,45,65,35,44]\n",
        "for i in range(10):\n",
        "    num = random.randint(1, 100)\n",
        "    lista1.append(num)\n",
        "for i in range(10):\n",
        "    num = random.randint(1, 100)\n",
        "    lista2.append(num)\n",
        "    intersecao = list(set(lista1) & set(lista2))\n",
        "    print(intersecao)"
      ],
      "metadata": {
        "colab": {
          "base_uri": "https://localhost:8080/"
        },
        "id": "vbdimOvLI6cX",
        "outputId": "db8b65d5-5637-46b8-d018-3bf852806db9"
      },
      "execution_count": null,
      "outputs": [
        {
          "output_type": "stream",
          "name": "stdout",
          "text": [
            "[69, 55]\n",
            "[93, 69, 55]\n",
            "[93, 69, 55]\n",
            "[93, 69, 55]\n",
            "[93, 69, 55]\n",
            "[93, 69, 55]\n",
            "[93, 69, 55]\n",
            "[93, 69, 55]\n",
            "[93, 69, 55]\n",
            "[93, 69, 55]\n"
          ]
        }
      ]
    },
    {
      "cell_type": "code",
      "source": [
        "#8. Faça um programa que simule o sorteio de 6 números da Mega-Sena (entre 1 e 60) sem repetição. Armazene em uma lista e exiba.\n",
        "import random\n",
        "numeros_sorteados = []\n",
        "while len(numeros_sorteados) < 6:\n",
        "    numero = random.randint(1, 60)\n",
        "    if numero not in numeros_sorteados:\n",
        "        numeros_sorteados.append(numero)\n",
        "        print(numeros_sorteados)"
      ],
      "metadata": {
        "colab": {
          "base_uri": "https://localhost:8080/"
        },
        "id": "qi9_lR_UKBA0",
        "outputId": "9bff3eb1-05c8-440f-f879-3fdeb382f297"
      },
      "execution_count": null,
      "outputs": [
        {
          "output_type": "stream",
          "name": "stdout",
          "text": [
            "[43]\n",
            "[43, 13]\n",
            "[43, 13, 21]\n",
            "[43, 13, 21, 32]\n",
            "[43, 13, 21, 32, 37]\n",
            "[43, 13, 21, 32, 37, 23]\n"
          ]
        }
      ]
    },
    {
      "cell_type": "code",
      "source": [
        "#9. Solicite ao usuário uma lista de 10 números. Crie uma nova lista onde cada elemento é o somatório de todos os elementos anteriores da lista original.\n",
        "lista = []\n",
        "for i in range(10):\n",
        "    num = int(input(f\"Digite o {i+1}º número: \"))\n",
        "    lista.append(num)\n",
        "    soma = sum(lista)\n",
        "    somatorios = []\n",
        "acumulado = 0\n",
        "\n",
        "for num in numeros:\n",
        "    somatorios.append(acumulado)\n",
        "    acumulado += num\n",
        "    print(somatorios)"
      ],
      "metadata": {
        "colab": {
          "base_uri": "https://localhost:8080/"
        },
        "id": "WeHuXdjnKOXg",
        "outputId": "8c9213b1-23db-4c55-8a76-4d73d92707e1"
      },
      "execution_count": null,
      "outputs": [
        {
          "output_type": "stream",
          "name": "stdout",
          "text": [
            "Digite o 1º número: 1\n",
            "Digite o 2º número: 2\n",
            "Digite o 3º número: 3\n",
            "Digite o 4º número: 4\n",
            "Digite o 5º número: 5\n",
            "Digite o 6º número: 6\n",
            "Digite o 7º número: 7\n",
            "Digite o 8º número: 8\n",
            "Digite o 9º número: 9\n",
            "Digite o 10º número: 0\n",
            "[0]\n",
            "[0, 1]\n",
            "[0, 1, 3]\n",
            "[0, 1, 3, 6]\n",
            "[0, 1, 3, 6, 10]\n",
            "[0, 1, 3, 6, 10, 15]\n",
            "[0, 1, 3, 6, 10, 15, 21]\n",
            "[0, 1, 3, 6, 10, 15, 21, 28]\n",
            "[0, 1, 3, 6, 10, 15, 21, 28, 36]\n",
            "[0, 1, 3, 6, 10, 15, 21, 28, 36, 45]\n",
            "[0, 1, 3, 6, 10, 15, 21, 28, 36, 45, 55]\n",
            "[0, 1, 3, 6, 10, 15, 21, 28, 36, 45, 55, 66]\n",
            "[0, 1, 3, 6, 10, 15, 21, 28, 36, 45, 55, 66, 78]\n",
            "[0, 1, 3, 6, 10, 15, 21, 28, 36, 45, 55, 66, 78, 91]\n",
            "[0, 1, 3, 6, 10, 15, 21, 28, 36, 45, 55, 66, 78, 91, 105]\n"
          ]
        }
      ]
    },
    {
      "cell_type": "code",
      "source": [
        "#10. Implemente uma lista de nomes e remova todos que tenham mais de 10 caracteres.\n",
        "nomes = []\n",
        "for i in range(10):\n",
        "    nome = input(f\"Digite o {i+1}º nome: \")\n",
        "    nomes.append(nome)\n",
        "nomes_filtrados = [nome for nome in nomes if len(nome) <= 10]\n",
        "print(nomes_filtrados)\n"
      ],
      "metadata": {
        "colab": {
          "base_uri": "https://localhost:8080/"
        },
        "id": "fS_-RqHZKlrt",
        "outputId": "004e2996-7a6f-4c20-a69d-7b73317bbb16"
      },
      "execution_count": null,
      "outputs": [
        {
          "output_type": "stream",
          "name": "stdout",
          "text": [
            "Digite o 1º nome: 1\n",
            "Digite o 2º nome: 2\n",
            "Digite o 3º nome: 3\n",
            "Digite o 4º nome: 4\n",
            "Digite o 5º nome: 5\n",
            "Digite o 6º nome: 6\n",
            "Digite o 7º nome: 7\n",
            "Digite o 8º nome: 8\n",
            "Digite o 9º nome: 9\n",
            "Digite o 10º nome: 0,\n",
            "['1', '2', '3', '4', '5', '6', '7', '8', '9', '0,']\n"
          ]
        }
      ]
    },
    {
      "cell_type": "code",
      "source": [
        "#11. Crie uma matriz 4x4 com valores fornecidos pelo usuário. Exiba a soma dos elementos da diagonal secundária.\n",
        "matriz = []\n",
        "for i in range(4):\n",
        "    linha = []\n",
        "    for j in range(4):\n",
        "        valor = int(input(f\"Digite o valor para a posição ({i+1}, {j+1}): \"))\n",
        "        linha.append(valor)\n",
        "        matriz.append(linha)\n",
        "        soma_diagonal_secundaria = 0\n",
        "for i in range(4):\n",
        "    soma_diagonal_secundaria += matriz[i][3 - i]\n",
        "    print(soma_diagonal_secundaria)"
      ],
      "metadata": {
        "colab": {
          "base_uri": "https://localhost:8080/"
        },
        "id": "wB7WS3d2LHsn",
        "outputId": "63211eee-3b97-4170-c674-8d5d0d4d0860"
      },
      "execution_count": null,
      "outputs": [
        {
          "output_type": "stream",
          "name": "stdout",
          "text": [
            "Digite o valor para a posição (1, 1): 1\n",
            "Digite o valor para a posição (1, 2): 2\n",
            "Digite o valor para a posição (1, 3): 3\n",
            "Digite o valor para a posição (1, 4): 4\n",
            "Digite o valor para a posição (2, 1): 5\n",
            "Digite o valor para a posição (2, 2): 6\n",
            "Digite o valor para a posição (2, 3): 7\n",
            "Digite o valor para a posição (2, 4): 8\n",
            "Digite o valor para a posição (3, 1): 9\n",
            "Digite o valor para a posição (3, 2): 99\n",
            "Digite o valor para a posição (3, 3): 88\n",
            "Digite o valor para a posição (3, 4): 12\n",
            "Digite o valor para a posição (4, 1): 15\n",
            "Digite o valor para a posição (4, 2): 16\n",
            "Digite o valor para a posição (4, 3): 22\n",
            "Digite o valor para a posição (4, 4): 25\n",
            "4\n",
            "7\n",
            "9\n",
            "10\n"
          ]
        }
      ]
    },
    {
      "cell_type": "code",
      "source": [
        "#12. Gere uma matriz 5x5 com números aleatórios entre 1 e 99. Em seguida, calcule a média dos elementos de cada linha e armazene os resultados em uma nova lista.\n",
        "import random\n",
        "matriz = []\n",
        "for i in range(5):\n",
        "    linha = []\n",
        "    for j in range(5):\n",
        "        valor = random.randint(1, 99)\n",
        "        linha.append(valor)\n",
        "        matriz.append(linha)\n",
        "        media_linhas = [sum(linha) / len(linha) for linha in matriz]\n",
        "        print(media_linhas)\n",
        "\n"
      ],
      "metadata": {
        "colab": {
          "base_uri": "https://localhost:8080/"
        },
        "id": "yjqO_hFwLxrv",
        "outputId": "d635c160-66e8-4f49-ce9e-45621e8d0d04"
      },
      "execution_count": null,
      "outputs": [
        {
          "output_type": "stream",
          "name": "stdout",
          "text": [
            "[2.0]\n",
            "[45.5, 45.5]\n",
            "[41.333333333333336, 41.333333333333336, 41.333333333333336]\n",
            "[52.75, 52.75, 52.75, 52.75]\n",
            "[55.2, 55.2, 55.2, 55.2, 55.2]\n",
            "[55.2, 55.2, 55.2, 55.2, 55.2, 74.0]\n",
            "[55.2, 55.2, 55.2, 55.2, 55.2, 58.5, 58.5]\n",
            "[55.2, 55.2, 55.2, 55.2, 55.2, 60.666666666666664, 60.666666666666664, 60.666666666666664]\n",
            "[55.2, 55.2, 55.2, 55.2, 55.2, 59.75, 59.75, 59.75, 59.75]\n",
            "[55.2, 55.2, 55.2, 55.2, 55.2, 62.0, 62.0, 62.0, 62.0, 62.0]\n",
            "[55.2, 55.2, 55.2, 55.2, 55.2, 62.0, 62.0, 62.0, 62.0, 62.0, 2.0]\n",
            "[55.2, 55.2, 55.2, 55.2, 55.2, 62.0, 62.0, 62.0, 62.0, 62.0, 11.0, 11.0]\n",
            "[55.2, 55.2, 55.2, 55.2, 55.2, 62.0, 62.0, 62.0, 62.0, 62.0, 36.0, 36.0, 36.0]\n",
            "[55.2, 55.2, 55.2, 55.2, 55.2, 62.0, 62.0, 62.0, 62.0, 62.0, 48.75, 48.75, 48.75, 48.75]\n",
            "[55.2, 55.2, 55.2, 55.2, 55.2, 62.0, 62.0, 62.0, 62.0, 62.0, 46.2, 46.2, 46.2, 46.2, 46.2]\n",
            "[55.2, 55.2, 55.2, 55.2, 55.2, 62.0, 62.0, 62.0, 62.0, 62.0, 46.2, 46.2, 46.2, 46.2, 46.2, 43.0]\n",
            "[55.2, 55.2, 55.2, 55.2, 55.2, 62.0, 62.0, 62.0, 62.0, 62.0, 46.2, 46.2, 46.2, 46.2, 46.2, 66.0, 66.0]\n",
            "[55.2, 55.2, 55.2, 55.2, 55.2, 62.0, 62.0, 62.0, 62.0, 62.0, 46.2, 46.2, 46.2, 46.2, 46.2, 45.0, 45.0, 45.0]\n",
            "[55.2, 55.2, 55.2, 55.2, 55.2, 62.0, 62.0, 62.0, 62.0, 62.0, 46.2, 46.2, 46.2, 46.2, 46.2, 50.0, 50.0, 50.0, 50.0]\n",
            "[55.2, 55.2, 55.2, 55.2, 55.2, 62.0, 62.0, 62.0, 62.0, 62.0, 46.2, 46.2, 46.2, 46.2, 46.2, 54.6, 54.6, 54.6, 54.6, 54.6]\n",
            "[55.2, 55.2, 55.2, 55.2, 55.2, 62.0, 62.0, 62.0, 62.0, 62.0, 46.2, 46.2, 46.2, 46.2, 46.2, 54.6, 54.6, 54.6, 54.6, 54.6, 76.0]\n",
            "[55.2, 55.2, 55.2, 55.2, 55.2, 62.0, 62.0, 62.0, 62.0, 62.0, 46.2, 46.2, 46.2, 46.2, 46.2, 54.6, 54.6, 54.6, 54.6, 54.6, 86.0, 86.0]\n",
            "[55.2, 55.2, 55.2, 55.2, 55.2, 62.0, 62.0, 62.0, 62.0, 62.0, 46.2, 46.2, 46.2, 46.2, 46.2, 54.6, 54.6, 54.6, 54.6, 54.6, 77.0, 77.0, 77.0]\n",
            "[55.2, 55.2, 55.2, 55.2, 55.2, 62.0, 62.0, 62.0, 62.0, 62.0, 46.2, 46.2, 46.2, 46.2, 46.2, 54.6, 54.6, 54.6, 54.6, 54.6, 72.75, 72.75, 72.75, 72.75]\n",
            "[55.2, 55.2, 55.2, 55.2, 55.2, 62.0, 62.0, 62.0, 62.0, 62.0, 46.2, 46.2, 46.2, 46.2, 46.2, 54.6, 54.6, 54.6, 54.6, 54.6, 70.0, 70.0, 70.0, 70.0, 70.0]\n"
          ]
        }
      ]
    },
    {
      "cell_type": "code",
      "source": [
        "#13. Solicite uma matriz 3x3 preenchida pelo usuário. Verifique se ela é uma matriz identidade.\n",
        "matriz = []\n",
        "for i in range(3):\n",
        "    linha = []\n",
        "    for j in range(3):\n",
        "        valor = int(input(f\"Digite o valor para a posição ({i+1}, {j+1}): \"))\n",
        "        linha.append(valor)\n",
        "        matriz.append(linha)\n",
        "        if all(matriz[i][j] == 1 for j in range(3)) and all(matriz[j][i] == 0 for j in range(3)):\n",
        "            print(\"A matriz é uma matriz identidade.\")\n",
        "            break\n",
        "        else:\n",
        "            print(\"A matriz NÃO é uma matriz identidade.\")\n",
        "            2\n",
        "\n",
        "\n"
      ],
      "metadata": {
        "colab": {
          "base_uri": "https://localhost:8080/"
        },
        "id": "vsiw2TLhMkmg",
        "outputId": "b304b16d-92c6-44c0-81a2-fd152c8e8a3c"
      },
      "execution_count": null,
      "outputs": [
        {
          "output_type": "stream",
          "name": "stdout",
          "text": [
            "Digite o valor para a posição (1, 1): 2\n",
            "A matriz NÃO é uma matriz identidade.\n",
            "Digite o valor para a posição (1, 2): 3\n",
            "A matriz NÃO é uma matriz identidade.\n",
            "Digite o valor para a posição (1, 3): 4\n",
            "A matriz NÃO é uma matriz identidade.\n",
            "Digite o valor para a posição (2, 1): 5\n",
            "A matriz NÃO é uma matriz identidade.\n",
            "Digite o valor para a posição (2, 2): 6\n",
            "A matriz NÃO é uma matriz identidade.\n",
            "Digite o valor para a posição (2, 3): 7\n",
            "A matriz NÃO é uma matriz identidade.\n",
            "Digite o valor para a posição (3, 1): 8\n",
            "A matriz NÃO é uma matriz identidade.\n",
            "Digite o valor para a posição (3, 2): 9\n",
            "A matriz NÃO é uma matriz identidade.\n",
            "Digite o valor para a posição (3, 3): 20\n",
            "A matriz NÃO é uma matriz identidade.\n"
          ]
        }
      ]
    },
    {
      "cell_type": "code",
      "source": [
        "#14. Faça um programa que leia uma matriz 3x3 e verifique se ela é simétrica (igual à sua transposta).\n",
        "matriz = []\n",
        "for i in range(3):\n",
        "    linha = []\n",
        "    for j in range(3):\n",
        "        valor = int(input(f\"Digite o valor para a posição [{i}][{j}]: \"))\n",
        "        linha.append(valor)\n",
        "    matriz.append(linha)\n",
        "    simetrica = True\n",
        "for i in range(3):\n",
        "    for j in range(3):\n",
        "        if matriz[i][j] != matriz[j][i]:\n",
        "            simetrica = False\n",
        "            break\n",
        "    if not simetrica:\n",
        "        break\n",
        "if simetrica:\n",
        "    print(\"A matriz é simétrica.\")\n",
        "else:\n",
        "    print(\"A matriz NÃO é simétrica.\")\n",
        "\n",
        "\n",
        "\n",
        "\n"
      ],
      "metadata": {
        "colab": {
          "base_uri": "https://localhost:8080/"
        },
        "id": "JkDXsVJ3NWZx",
        "outputId": "2e944f69-cdd2-4e32-d8ad-9f0fe7d5b96b"
      },
      "execution_count": null,
      "outputs": [
        {
          "output_type": "stream",
          "name": "stdout",
          "text": [
            "Digite o valor para a posição [0][0]: 1\n",
            "Digite o valor para a posição [0][1]: 2\n",
            "Digite o valor para a posição [0][2]: 3\n",
            "Digite o valor para a posição [1][0]: 4\n",
            "Digite o valor para a posição [1][1]: 5\n",
            "Digite o valor para a posição [1][2]: 6\n",
            "Digite o valor para a posição [2][0]: 7\n",
            "Digite o valor para a posição [2][1]: 8\n",
            "Digite o valor para a posição [2][2]: 9\n",
            "A matriz NÃO é simétrica.\n"
          ]
        }
      ]
    },
    {
      "cell_type": "code",
      "source": [
        "#15. Crie uma matriz 5x3 onde cada elemento é igual ao produto de sua linha pelo valor da coluna. Exiba a matriz completa.\n",
        "matriz = []\n",
        "for i in range(5):\n",
        "    linha = []\n",
        "    for j in range(3):\n",
        "        valor = i * j\n",
        "        linha.append(valor)\n",
        "        matriz.append(linha)\n",
        "        print(matriz)\n",
        "for linha in matriz:\n",
        " print(linha)"
      ],
      "metadata": {
        "colab": {
          "base_uri": "https://localhost:8080/"
        },
        "id": "PuFY-9XGPFTc",
        "outputId": "06b1c581-6893-4334-ba44-56f3c7467a0e"
      },
      "execution_count": null,
      "outputs": [
        {
          "output_type": "stream",
          "name": "stdout",
          "text": [
            "[[0]]\n",
            "[[0, 0], [0, 0]]\n",
            "[[0, 0, 0], [0, 0, 0], [0, 0, 0]]\n",
            "[[0, 0, 0], [0, 0, 0], [0, 0, 0], [0]]\n",
            "[[0, 0, 0], [0, 0, 0], [0, 0, 0], [0, 1], [0, 1]]\n",
            "[[0, 0, 0], [0, 0, 0], [0, 0, 0], [0, 1, 2], [0, 1, 2], [0, 1, 2]]\n",
            "[[0, 0, 0], [0, 0, 0], [0, 0, 0], [0, 1, 2], [0, 1, 2], [0, 1, 2], [0]]\n",
            "[[0, 0, 0], [0, 0, 0], [0, 0, 0], [0, 1, 2], [0, 1, 2], [0, 1, 2], [0, 2], [0, 2]]\n",
            "[[0, 0, 0], [0, 0, 0], [0, 0, 0], [0, 1, 2], [0, 1, 2], [0, 1, 2], [0, 2, 4], [0, 2, 4], [0, 2, 4]]\n",
            "[[0, 0, 0], [0, 0, 0], [0, 0, 0], [0, 1, 2], [0, 1, 2], [0, 1, 2], [0, 2, 4], [0, 2, 4], [0, 2, 4], [0]]\n",
            "[[0, 0, 0], [0, 0, 0], [0, 0, 0], [0, 1, 2], [0, 1, 2], [0, 1, 2], [0, 2, 4], [0, 2, 4], [0, 2, 4], [0, 3], [0, 3]]\n",
            "[[0, 0, 0], [0, 0, 0], [0, 0, 0], [0, 1, 2], [0, 1, 2], [0, 1, 2], [0, 2, 4], [0, 2, 4], [0, 2, 4], [0, 3, 6], [0, 3, 6], [0, 3, 6]]\n",
            "[[0, 0, 0], [0, 0, 0], [0, 0, 0], [0, 1, 2], [0, 1, 2], [0, 1, 2], [0, 2, 4], [0, 2, 4], [0, 2, 4], [0, 3, 6], [0, 3, 6], [0, 3, 6], [0]]\n",
            "[[0, 0, 0], [0, 0, 0], [0, 0, 0], [0, 1, 2], [0, 1, 2], [0, 1, 2], [0, 2, 4], [0, 2, 4], [0, 2, 4], [0, 3, 6], [0, 3, 6], [0, 3, 6], [0, 4], [0, 4]]\n",
            "[[0, 0, 0], [0, 0, 0], [0, 0, 0], [0, 1, 2], [0, 1, 2], [0, 1, 2], [0, 2, 4], [0, 2, 4], [0, 2, 4], [0, 3, 6], [0, 3, 6], [0, 3, 6], [0, 4, 8], [0, 4, 8], [0, 4, 8]]\n",
            "[0, 0, 0]\n",
            "[0, 0, 0]\n",
            "[0, 0, 0]\n",
            "[0, 1, 2]\n",
            "[0, 1, 2]\n",
            "[0, 1, 2]\n",
            "[0, 2, 4]\n",
            "[0, 2, 4]\n",
            "[0, 2, 4]\n",
            "[0, 3, 6]\n",
            "[0, 3, 6]\n",
            "[0, 3, 6]\n",
            "[0, 4, 8]\n",
            "[0, 4, 8]\n",
            "[0, 4, 8]\n"
          ]
        }
      ]
    },
    {
      "cell_type": "code",
      "source": [
        "#16 Crie uma matriz 4x4 com números fornecidos pelo usuário. Encontre o menor valor de cada coluna e armazene em uma lista separada.\n",
        "matriz = []\n",
        "for i in range(4):\n",
        "    linha = []\n",
        "    for j in range(4):\n",
        "        valor = int(input(f\"Digite o valor para a posição ({i+1}, {j+1}): \"))\n",
        "\n",
        "        linha.append(valor)\n",
        "    matriz.append(linha)\n",
        "\n",
        "menores_colunas = []\n",
        "for j in range(4):\n",
        "    menor = matriz[0][j]\n",
        "    for i in range(1, 4):\n",
        "        if matriz[i][j] < menor:\n",
        "            menor = matriz[i][j]\n",
        "    menores_colunas.append(menor)\n",
        "\n",
        "print('menores de cada coluna:', menores_colunas)"
      ],
      "metadata": {
        "colab": {
          "base_uri": "https://localhost:8080/"
        },
        "id": "c3kXBEjzfRo7",
        "outputId": "f3d8feac-598e-468f-f788-ac3287500fa8"
      },
      "execution_count": null,
      "outputs": [
        {
          "output_type": "stream",
          "name": "stdout",
          "text": [
            "Digite o valor para a posição (1, 1): 2\n",
            "Digite o valor para a posição (1, 2): 4\n",
            "Digite o valor para a posição (1, 3): 6\n",
            "Digite o valor para a posição (1, 4): 8\n",
            "Digite o valor para a posição (2, 1): 10\n",
            "Digite o valor para a posição (2, 2): 12\n",
            "Digite o valor para a posição (2, 3): 14\n",
            "Digite o valor para a posição (2, 4): 16\n",
            "Digite o valor para a posição (3, 1): 18\n",
            "Digite o valor para a posição (3, 2): 20\n",
            "Digite o valor para a posição (3, 3): 22\n",
            "Digite o valor para a posição (3, 4): 24\n",
            "Digite o valor para a posição (4, 1): 26\n",
            "Digite o valor para a posição (4, 2): 28\n",
            "Digite o valor para a posição (4, 3): 30\n",
            "Digite o valor para a posição (4, 4): 32\n",
            "menores de cada coluna: [2, 4, 6, 8]\n"
          ]
        }
      ]
    },
    {
      "cell_type": "code",
      "source": [
        "#17. Dada uma matriz 3x3 com valores reais, calcule o determinante (sem usar bibliotecas externas).\n",
        "matriz = []\n",
        "for i in range(3):\n",
        "  linha = []\n",
        "  for j in range(3):\n",
        "    linha.append(float(input(f\"Digite o valor para a posição ({i+1}, {j+1}): \")))\n",
        "  matriz.append(linha)\n",
        "\n",
        "a = matriz[0][0]*(matriz[1][1]*matriz[2][2] - matriz[1][2]*matriz[2][1])\n",
        "b = matriz[0][1]*(matriz[1][0]*matriz[2][2] - matriz[1][2]*matriz[2][0])\n",
        "c = matriz[0][2]*(matriz[1][0]*matriz[2][1] - matriz[1][1]*matriz[2][0])\n",
        "determinante = a - b + c\n",
        "print('determinante:', determinante)"
      ],
      "metadata": {
        "colab": {
          "base_uri": "https://localhost:8080/"
        },
        "id": "XFXGevBBi7yv",
        "outputId": "96c19c78-3497-40a9-f01a-3fd9029a4c66"
      },
      "execution_count": null,
      "outputs": [
        {
          "output_type": "stream",
          "name": "stdout",
          "text": [
            "Digite o valor para a posição (1, 1): 9\n",
            "Digite o valor para a posição (1, 2): 3\n",
            "Digite o valor para a posição (1, 3): 5\n",
            "Digite o valor para a posição (2, 1): 7\n",
            "Digite o valor para a posição (2, 2): 1\n",
            "Digite o valor para a posição (2, 3): 0\n",
            "Digite o valor para a posição (3, 1): 4\n",
            "Digite o valor para a posição (3, 2): 9\n",
            "Digite o valor para a posição (3, 3): 4\n",
            "determinante: 247.0\n"
          ]
        }
      ]
    },
    {
      "cell_type": "code",
      "source": [
        "#18 Faça um programa que leia duas matrizes 3x3 e calcule a matriz soma e a matriz diferença.\n",
        "A = []\n",
        "B = []\n",
        "for i in range(3):\n",
        "   linhaA = []\n",
        "   linhaB = []\n",
        "   for j in range(3):\n",
        "     linhaA.append(int(input(f\"A[{j+1},{i+1}]: \")))\n",
        "     linhaB.append(int(input(f\"B[{j+1},{i+1}]: \")))\n",
        "   A.append(linhaA)\n",
        "   B.append(linhaB)\n",
        "\n",
        "soma = []\n",
        "diferenca = []\n",
        "for i in range(3):\n",
        "    linha_soma = []\n",
        "    linha_diferenca = []\n",
        "    for j in range(3):\n",
        "        linha_soma.append(A[i][j] + B[i][j])\n",
        "        linha_diferenca.append(A[i][j] - B[i][j])\n",
        "    soma.append(linha_soma)\n",
        "    diferenca.append(linha_diferenca)\n",
        "\n",
        "print('soma:', soma)\n",
        "print('diferenca:',diferenca)"
      ],
      "metadata": {
        "colab": {
          "base_uri": "https://localhost:8080/"
        },
        "id": "c_ok1jvXqraC",
        "outputId": "2fadaaaf-da59-4371-90ae-f6fc407b6b8b"
      },
      "execution_count": null,
      "outputs": [
        {
          "output_type": "stream",
          "name": "stdout",
          "text": [
            "A[1,1]: 4\n",
            "B[1,1]: 7\n",
            "A[2,1]: 1\n",
            "B[2,1]: 2\n",
            "A[3,1]: 8\n",
            "B[3,1]: 5\n",
            "A[1,2]: 3\n",
            "B[1,2]: 9\n",
            "A[2,2]: 6\n",
            "B[2,2]: 65\n",
            "A[3,2]: 54\n",
            "B[3,2]: 98\n",
            "A[1,3]: 35\n",
            "B[1,3]: 47\n",
            "A[2,3]: 14\n",
            "B[2,3]: 32\n",
            "A[3,3]: 87\n",
            "B[3,3]: 22\n",
            "soma: [[11, 3, 13], [12, 71, 152], [82, 46, 109]]\n",
            "diferenca: [[-3, -1, 3], [-6, -59, -44], [-12, -18, 65]]\n"
          ]
        }
      ]
    },
    {
      "cell_type": "code",
      "source": [
        "#19. Solicite dois conjuntos de 10 elementos fornecidos pelo usuário. Mostre a interseção, união e diferença (A - B e B - A).\n",
        "A = set ()\n",
        "B = set ()\n",
        "print('digite 10 elementos para o conjunto A:')\n",
        "for _ in range(10):\n",
        "  A.add(int(input()))\n",
        "\n",
        "print('digite 10 elementos para o conjunto B:')\n",
        "for _ in range(10):\n",
        "  B.add(int(input()))\n",
        "\n",
        "print('interseção:',A & B)\n",
        "print('uniao:', A | B)\n",
        "print('diferenca A-B:',A - B)\n",
        "print('diferenca B-A:',B - A)"
      ],
      "metadata": {
        "colab": {
          "base_uri": "https://localhost:8080/"
        },
        "id": "LG5p0pp5bjF4",
        "outputId": "e5b21034-278d-40c0-a3fe-ad5685a1ed85"
      },
      "execution_count": null,
      "outputs": [
        {
          "output_type": "stream",
          "name": "stdout",
          "text": [
            "digite 10 elementos para o conjunto A:\n",
            "5\n",
            "6\n",
            "8\n",
            "9\n",
            "7\n",
            "4\n",
            "6\n",
            "3\n",
            "7\n",
            "8\n",
            "digite 10 elementos para o conjunto B:\n",
            "5\n",
            "9\n",
            "82\n",
            "7\n",
            "4\n",
            "3\n",
            "6\n",
            "1\n",
            "9\n",
            "7\n",
            "interseção: {3, 4, 5, 6, 7, 9}\n",
            "uniao: {1, 3, 4, 5, 6, 7, 8, 9, 82}\n",
            "diferenca A-B: {8}\n",
            "diferenca B-A: {1, 82}\n"
          ]
        }
      ]
    },
    {
      "cell_type": "code",
      "source": [
        "#20. Crie um conjunto com todas as letras usadas em uma frase digitada pelo usuário, excluindo espaços e pontuação.\n",
        "frase = input(\"Digite uma frase: \")\n",
        "import string\n",
        "conjunto = set()\n",
        "for c in frase.lower():\n",
        "  if c.isalpha():\n",
        "    conjunto.add(c)\n",
        "print('letras distintas:', conjunto)"
      ],
      "metadata": {
        "colab": {
          "base_uri": "https://localhost:8080/"
        },
        "id": "IQwRE28gblBB",
        "outputId": "b1f7efd6-11bb-4726-91d6-c14622d01bda"
      },
      "execution_count": null,
      "outputs": [
        {
          "output_type": "stream",
          "name": "stdout",
          "text": [
            "Digite uma frase: pedro\n",
            "letras distintas: {'r', 'o', 'p', 'e', 'd'}\n"
          ]
        }
      ]
    },
    {
      "cell_type": "code",
      "source": [
        "#21. Escreva um programa que armazene em um conjunto todos os números entre 1 e 100 que não são múltiplos de 2 nem de 3.\n",
        "conjunto = set()\n",
        "for i in range(1, 101):\n",
        "  if i % 2 != 0 and i % 3 != 0:\n",
        "   conjunto.add(i)\n",
        "print(conjunto)"
      ],
      "metadata": {
        "colab": {
          "base_uri": "https://localhost:8080/"
        },
        "id": "85Kff_kGbms4",
        "outputId": "dbc526c0-6d77-4f25-b36b-6a430ec83733"
      },
      "execution_count": null,
      "outputs": [
        {
          "output_type": "stream",
          "name": "stdout",
          "text": [
            "{1, 5, 7, 11, 13, 17, 19, 23, 25, 29, 31, 35, 37, 41, 43, 47, 49, 53, 55, 59, 61, 65, 67, 71, 73, 77, 79, 83, 85, 89, 91, 95, 97}\n"
          ]
        }
      ]
    },
    {
      "cell_type": "code",
      "source": [
        "#22. Solicite ao usuário que digite 10 palavras. Armazene em um conjunto todas as palavras distintas com mais de 5 letras.\n",
        "conjunto = set()\n",
        "for _ in range(10):\n",
        "  palavra = input(\"Digite uma palavra: \")\n",
        "  if len(palavra) > 5:\n",
        "    conjunto.add(palavra)\n",
        "print(conjunto)"
      ],
      "metadata": {
        "id": "KtLL1HL2boeA",
        "colab": {
          "base_uri": "https://localhost:8080/"
        },
        "outputId": "7f0ea6f3-839c-495c-9d19-d7519c1f52e0"
      },
      "execution_count": null,
      "outputs": [
        {
          "output_type": "stream",
          "name": "stdout",
          "text": [
            "Digite uma palavra: casa\n",
            "Digite uma palavra: pedro\n",
            "Digite uma palavra: amor\n",
            "Digite uma palavra: flamengo\n",
            "Digite uma palavra: sorvete\n",
            "Digite uma palavra: frutas\n",
            "Digite uma palavra: maça\n",
            "Digite uma palavra: carro\n",
            "Digite uma palavra: moto\n",
            "Digite uma palavra: barco \n",
            "{'sorvete', 'flamengo', 'barco ', 'frutas'}\n"
          ]
        }
      ]
    },
    {
      "cell_type": "code",
      "source": [
        "#23. Leia dois conjuntos de inteiros. Verifique se um é subconjunto do outro.\n",
        "A = set(map(int, input(\"Digite os elementos do conjunto A (separados por espaço): \").split()))\n",
        "B = set(map(int, input(\"Digite os elementos do conjunto B (separados por espaço): \").split()))\n",
        "print(A.issubset(B))\n",
        "print(B.issubset(A))\n"
      ],
      "metadata": {
        "id": "hqoubtonbqlZ",
        "colab": {
          "base_uri": "https://localhost:8080/"
        },
        "outputId": "469b41c8-b5f2-4fd6-b7a3-917d1b53c978"
      },
      "execution_count": null,
      "outputs": [
        {
          "output_type": "stream",
          "name": "stdout",
          "text": [
            "Digite os elementos do conjunto A (separados por espaço): 1 3 5 7 9 11\n",
            "Digite os elementos do conjunto B (separados por espaço): 2 4 6 8 10\n",
            "False\n",
            "False\n"
          ]
        }
      ]
    },
    {
      "cell_type": "code",
      "source": [
        "#24. Dado um conjunto de números inteiros, crie um novo conjunto com apenas os quadrados perfeitos encontrados.\n",
        "import math\n",
        "conjunto = set(map(int, input(\"Digite os elementos do conjunto (separados por espaço): \").split()))\n",
        "quadrados = set()\n",
        "for num in conjunto:\n",
        "  raiz = math.sqrt(num)\n",
        "  if raiz == int(raiz):\n",
        "    quadrados.add(num)\n",
        "print(quadrados)"
      ],
      "metadata": {
        "id": "EKYEZDCTbsvx",
        "colab": {
          "base_uri": "https://localhost:8080/"
        },
        "outputId": "386a675d-7651-4a34-96fc-8a29a72f56e6"
      },
      "execution_count": null,
      "outputs": [
        {
          "output_type": "stream",
          "name": "stdout",
          "text": [
            "Digite os elementos do conjunto (separados por espaço): 2 4 8 9 2 10\n",
            "{9, 4}\n"
          ]
        }
      ]
    },
    {
      "cell_type": "code",
      "source": [
        "#25. Crie um dicionário que armazene o nome e o salário de 5 funcionários. Calcule o reajuste de 10% para salários inferiores a R$ 2.000 e atualize o dicionário.\n",
        "salarios = {}\n",
        "for i in range(5):\n",
        "    nome = input('Digite o nome do funcionário: ')\n",
        "    salario = float(input('Digite o salário do funcionário: '))\n",
        "    if salario < 2000:\n",
        "        salario *= 1.10\n",
        "    salarios[nome] = salario\n",
        "print(salarios)"
      ],
      "metadata": {
        "id": "B1-h0xK9b0L5",
        "colab": {
          "base_uri": "https://localhost:8080/"
        },
        "outputId": "a3a09f40-65bb-49c0-8ff3-1edc10b27f89"
      },
      "execution_count": null,
      "outputs": [
        {
          "output_type": "stream",
          "name": "stdout",
          "text": [
            "Digite o nome do funcionário: pedro\n",
            "Digite o salário do funcionário: 1350\n",
            "Digite o nome do funcionário: caio\n",
            "Digite o salário do funcionário: 1550\n",
            "Digite o nome do funcionário: alexandre\n",
            "Digite o salário do funcionário: 2000\n",
            "Digite o nome do funcionário: mathues \n",
            "Digite o salário do funcionário: 2100\n",
            "Digite o nome do funcionário: joao \n",
            "Digite o salário do funcionário: 3000\n",
            "{'pedro': 1485.0000000000002, 'caio': 1705.0000000000002, 'alexandre': 2000.0, 'mathues ': 2100.0, 'joao ': 3000.0}\n"
          ]
        }
      ]
    },
    {
      "cell_type": "code",
      "source": [
        "#26. Faça um programa que armazene em um dicionário o nome de 5 alunos e uma lista com suas 3 notas. Depois, exiba o nome e a média de cada aluno.\n",
        "alunos = {}\n",
        "for i in range(5):\n",
        "    nome = input('Digite o nome do aluno: ')\n",
        "    notas = []\n",
        "    for j in range(3):\n",
        "        notas.append(float(input(f'Digite a nota {j+1} do aluno {nome}: ')))\n",
        "    alunos[nome] = notas\n",
        "for nome, notas in alunos.items():\n",
        "    media = sum(notas) / len(notas)\n",
        "    print(f'Aluno: {nome}, Média: {media:.2f}')\n"
      ],
      "metadata": {
        "id": "Q4NpaXuIb2XY",
        "colab": {
          "base_uri": "https://localhost:8080/"
        },
        "outputId": "0b288654-5c0d-4342-d9ec-3d297245931f"
      },
      "execution_count": null,
      "outputs": [
        {
          "output_type": "stream",
          "name": "stdout",
          "text": [
            "Digite o nome do aluno: matheus\n",
            "Digite a nota 1 do aluno matheus: 9\n",
            "Digite a nota 2 do aluno matheus: 7\n",
            "Digite a nota 3 do aluno matheus: 10\n",
            "Digite o nome do aluno: pedro\n",
            "Digite a nota 1 do aluno pedro: 6\n",
            "Digite a nota 2 do aluno pedro: 4\n",
            "Digite a nota 3 do aluno pedro: 9\n",
            "Digite o nome do aluno: alexandre\n",
            "Digite a nota 1 do aluno alexandre: 9\n",
            "Digite a nota 2 do aluno alexandre: 10\n",
            "Digite a nota 3 do aluno alexandre: 7\n",
            "Digite o nome do aluno: arthur\n",
            "Digite a nota 1 do aluno arthur: 5\n",
            "Digite a nota 2 do aluno arthur: 9\n",
            "Digite a nota 3 do aluno arthur: 7\n",
            "Digite o nome do aluno: vitor\n",
            "Digite a nota 1 do aluno vitor: 8\n",
            "Digite a nota 2 do aluno vitor: 2\n",
            "Digite a nota 3 do aluno vitor: 6\n",
            "Aluno: matheus, Média: 8.67\n",
            "Aluno: pedro, Média: 6.33\n",
            "Aluno: alexandre, Média: 8.67\n",
            "Aluno: arthur, Média: 7.00\n",
            "Aluno: vitor, Média: 5.33\n"
          ]
        }
      ]
    },
    {
      "cell_type": "code",
      "source": [
        "#27. Crie um dicionário que armazene palavras e seus sinônimos. Depois, permita que o usuário digite uma palavra e veja seus sinônimos (se existirem).\n",
        "dicionário = {}\n",
        "for i in range(5):\n",
        "    palavra = input('Digite uma palavra: ')\n",
        "    sinonimo = input(f'Digite um sinônimo para {palavra}: ')\n",
        "    dicionário[palavra] = sinonimo\n",
        "    casa = input('Digite uma palavra para verificar seus sinônimos: ')\n",
        "    if casa in dicionário:\n",
        "        print(f'Os sinônimos de {casa} são: {dicionário[casa]}')\n",
        "else:\n",
        "        print(f'Não há sinônimos para {casa}')\n"
      ],
      "metadata": {
        "id": "OocbQlpLb4cP",
        "colab": {
          "base_uri": "https://localhost:8080/"
        },
        "outputId": "43421dc9-f3b6-4833-a55a-b6333efb5fa6"
      },
      "execution_count": null,
      "outputs": [
        {
          "output_type": "stream",
          "name": "stdout",
          "text": [
            "Digite uma palavra: feliz\n",
            "Digite um sinônimo para feliz: contente, alegre, satisfeito\n",
            "Digite uma palavra para verificar seus sinônimos: bonito\n",
            "Digite uma palavra: belo, atraente, encantador\n",
            "Digite um sinônimo para belo, atraente, encantador: triste\n",
            "Digite uma palavra para verificar seus sinônimos: abatido, desanimado\n",
            "Digite uma palavra: rapido\n",
            "Digite um sinônimo para rapido: veloz, ágil\n",
            "Digite uma palavra para verificar seus sinônimos: inteligente\n",
            "Digite uma palavra: sábio, astuto,esperto\n",
            "Digite um sinônimo para sábio, astuto,esperto: grande \n",
            "Digite uma palavra para verificar seus sinônimos: enorme, gigante, amplo\n",
            "Digite uma palavra: pequeno\n",
            "Digite um sinônimo para pequeno: compacto \n",
            "Digite uma palavra para verificar seus sinônimos: forte\n",
            "Não há sinônimos para forte\n"
          ]
        }
      ]
    },
    {
      "cell_type": "code",
      "source": [
        "#28. Solicite ao usuário 10 palavras e armazene em um dicionário onde a chave é a primeira letra e o valor é uma lista de palavras que começam com essa letra.\n",
        "dicionário = {}\n",
        "for i in range(10):\n",
        "    palavra = input('Digite uma palavra: ')\n",
        "    letra = palavra[0].lower()\n",
        "    if letra not in dicionário:\n",
        "        dicionário[letra] = []\n",
        "    dicionário[letra].append(palavra)\n",
        "print(dicionário)"
      ],
      "metadata": {
        "id": "cRqP8LuWcDm4",
        "colab": {
          "base_uri": "https://localhost:8080/"
        },
        "outputId": "d4963a7e-fbf7-46a8-c880-b7a9ab60b212"
      },
      "execution_count": null,
      "outputs": [
        {
          "output_type": "stream",
          "name": "stdout",
          "text": [
            "Digite uma palavra: casa\n",
            "Digite uma palavra: apartamento \n",
            "Digite uma palavra: vida \n",
            "Digite uma palavra: sonho\n",
            "Digite uma palavra: brilhar \n",
            "Digite uma palavra: realizar\n",
            "Digite uma palavra: amor\n",
            "Digite uma palavra: passagem \n",
            "Digite uma palavra: buscar \n",
            "Digite uma palavra: viagem \n",
            "{'c': ['casa'], 'a': ['apartamento ', 'amor'], 'v': ['vida ', 'viagem '], 's': ['sonho'], 'b': ['brilhar ', 'buscar '], 'r': ['realizar'], 'p': ['passagem ']}\n"
          ]
        }
      ]
    },
    {
      "cell_type": "code",
      "source": [
        "#29. Crie um dicionário onde as chaves são nomes de produtos e os valores são listas com preços praticados em três lojas diferentes. Encontre o produto com maior variação de preço.\n",
        "produtos  = {}\n",
        "for i in range(5):\n",
        "    nome = input('Digite o nome do produto: ')\n",
        "    preços = list(map(float, input('Digite os preços dos produtos separados por espaço: ').split()))\n",
        "    produtos[nome] = preços\n",
        "    maior_variacao = 0\n",
        "    produto_maior_variacao = ''\n",
        "    for nome, preços in produtos.items():\n",
        "        variacao = max(preços) - min(preços)\n",
        "    if variacao > maior_variacao:\n",
        "     maior_variacao = variacao\n",
        "     produto_maior_variacao = nome\n",
        "    print(f'O produto com maior variação de preço é: {produto_maior_variacao}')\n"
      ],
      "metadata": {
        "id": "Qj5hX6licFY3",
        "colab": {
          "base_uri": "https://localhost:8080/"
        },
        "outputId": "343f8c08-6dff-46f4-ab2a-1660168a50a4"
      },
      "execution_count": null,
      "outputs": [
        {
          "output_type": "stream",
          "name": "stdout",
          "text": [
            "Digite o nome do produto: arroz\n",
            "Digite os preços dos produtos separados por espaço: 15 20 17\n",
            "O produto com maior variação de preço é: arroz\n",
            "Digite o nome do produto: feijao\n",
            "Digite os preços dos produtos separados por espaço: 8 11 15\n",
            "O produto com maior variação de preço é: feijao\n",
            "Digite o nome do produto: carne\n",
            "Digite os preços dos produtos separados por espaço: 25 30 33\n",
            "O produto com maior variação de preço é: carne\n",
            "Digite o nome do produto: sal\n",
            "Digite os preços dos produtos separados por espaço: 3 6 9\n",
            "O produto com maior variação de preço é: sal\n",
            "Digite o nome do produto: alho\n",
            "Digite os preços dos produtos separados por espaço: 7 10 15\n",
            "O produto com maior variação de preço é: alho\n"
          ]
        }
      ]
    },
    {
      "cell_type": "code",
      "source": [
        "#30. Implemente um programa que leia uma frase e armazene em um dicionário o número de ocorrências de cada palavra (ignorando letras maiúsculas/minúsculas).\n",
        "frase = input('Digite uma frase: ')\n",
        "frase = frase.lower()\n",
        "palavras = frase.split()\n",
        "dicionário = {}\n",
        "for palavra in palavras:\n",
        "    palavra = palavra.strip('.,!?')\n",
        "    if palavra in dicionário:\n",
        "        dicionário[palavra] += 1\n",
        "    else:\n",
        "        dicionário[palavra] = 1\n",
        "print(dicionário)"
      ],
      "metadata": {
        "id": "ycEI7hi7cJWH",
        "colab": {
          "base_uri": "https://localhost:8080/"
        },
        "outputId": "bdf147c3-8f01-4d34-f743-5ed95da3df2c"
      },
      "execution_count": null,
      "outputs": [
        {
          "output_type": "stream",
          "name": "stdout",
          "text": [
            "Digite uma frase: a vida é feita de momentos , aproveite cada um deles\n",
            "{'a': 1, 'vida': 1, 'é': 1, 'feita': 1, 'de': 1, 'momentos': 1, '': 1, 'aproveite': 1, 'cada': 1, 'um': 1, 'deles': 1}\n"
          ]
        }
      ]
    },
    {
      "cell_type": "markdown",
      "source": [],
      "metadata": {
        "id": "PXn9MO01Bgrg"
      }
    },
    {
      "cell_type": "markdown",
      "source": [],
      "metadata": {
        "id": "FYSLWejhBgLA"
      }
    }
  ]
}