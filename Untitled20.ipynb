{
  "nbformat": 4,
  "nbformat_minor": 0,
  "metadata": {
    "colab": {
      "provenance": [],
      "authorship_tag": "ABX9TyNYNdv1PBk1Uei/7+NZGg7U",
      "include_colab_link": true
    },
    "kernelspec": {
      "name": "python3",
      "display_name": "Python 3"
    },
    "language_info": {
      "name": "python"
    }
  },
  "cells": [
    {
      "cell_type": "markdown",
      "metadata": {
        "id": "view-in-github",
        "colab_type": "text"
      },
      "source": [
        "<a href=\"https://colab.research.google.com/github/vidotin10/Alexandre10-/blob/main/Untitled20.ipynb\" target=\"_parent\"><img src=\"https://colab.research.google.com/assets/colab-badge.svg\" alt=\"Open In Colab\"/></a>"
      ]
    },
    {
      "cell_type": "markdown",
      "source": [
        "Atividade Avaliativa: Alexandre Vidoto Pereira/Pedro Henrique ferreira Piana"
      ],
      "metadata": {
        "id": "_CE64KC7BiA4"
      }
    },
    {
      "cell_type": "code",
      "source": [
        "#1. Crie uma lista com 15 números inteiros digitados pelo usuário. Em seguida, remova todos os números repetidos, mantendo a ordem original.\n",
        "numeros = []\n",
        "for i in range(15):\n",
        "    numero = int(input(f\"Digite o {i+1}º número: \"))\n",
        "    numeros.append(numero)\n",
        "numeros_sem_repetidos = []\n",
        "for num in numeros:\n",
        "    if num not in numeros_sem_repetidos:\n",
        "        numeros_sem_repetidos.append(num)\n",
        "        print(numeros_sem_repetidos)"
      ],
      "metadata": {
        "colab": {
          "base_uri": "https://localhost:8080/"
        },
        "id": "p-ekHlN4CATI",
        "outputId": "229b57bb-40f4-4fcb-b472-c05a6db6be81"
      },
      "execution_count": 8,
      "outputs": [
        {
          "output_type": "stream",
          "name": "stdout",
          "text": [
            "Digite o 1º número: 1\n",
            "Digite o 2º número: 2\n",
            "Digite o 3º número: 3\n",
            "Digite o 4º número: 4\n",
            "Digite o 5º número: 5\n",
            "Digite o 6º número: 6\n",
            "Digite o 7º número: 7\n",
            "Digite o 8º número: 8\n",
            "Digite o 9º número: 9\n",
            "Digite o 10º número: 10\n",
            "Digite o 11º número: 11\n",
            "Digite o 12º número: 12\n",
            "Digite o 13º número: 13\n",
            "Digite o 14º número: 14\n",
            "Digite o 15º número: 0\n",
            "[1]\n",
            "[1, 2]\n",
            "[1, 2, 3]\n",
            "[1, 2, 3, 4]\n",
            "[1, 2, 3, 4, 5]\n",
            "[1, 2, 3, 4, 5, 6]\n",
            "[1, 2, 3, 4, 5, 6, 7]\n",
            "[1, 2, 3, 4, 5, 6, 7, 8]\n",
            "[1, 2, 3, 4, 5, 6, 7, 8, 9]\n",
            "[1, 2, 3, 4, 5, 6, 7, 8, 9, 10]\n",
            "[1, 2, 3, 4, 5, 6, 7, 8, 9, 10, 11]\n",
            "[1, 2, 3, 4, 5, 6, 7, 8, 9, 10, 11, 12]\n",
            "[1, 2, 3, 4, 5, 6, 7, 8, 9, 10, 11, 12, 13]\n",
            "[1, 2, 3, 4, 5, 6, 7, 8, 9, 10, 11, 12, 13, 14]\n",
            "[1, 2, 3, 4, 5, 6, 7, 8, 9, 10, 11, 12, 13, 14, 0]\n"
          ]
        }
      ]
    },
    {
      "cell_type": "code",
      "source": [
        "#2. Escreva um programa que leia 10 nomes e 10 idades. Armazene os nomes em uma lista e as idades em outra. Em seguida, exiba o nome da pessoa mais velha.\n",
        "nomes = []\n",
        "idades = []\n",
        "for i in range(10):\n",
        "    nome = input(f\"Digite o nome da {i+1}ª pessoa: \")\n",
        "    idade = int(input(f\"Digite a idade de {nome}: \"))\n",
        "    nomes.append(nome)\n",
        "    idades.append(idade)\n",
        "maior_idade = max(idades)\n",
        "indice_maior = idades.index(maior_idade)\n",
        "nome_mais_velho = nomes[indice_maior]\n",
        "print(f\"A pessoa mais velha é: {nome_mais_velho} com {maior_idade} anos.\")"
      ],
      "metadata": {
        "colab": {
          "base_uri": "https://localhost:8080/"
        },
        "id": "uh1TGEHjC2-n",
        "outputId": "23b7e601-368b-49f5-a437-58dd2da3d083"
      },
      "execution_count": 9,
      "outputs": [
        {
          "output_type": "stream",
          "name": "stdout",
          "text": [
            "Digite o nome da 1ª pessoa: alexandre\n",
            "Digite a idade de alexandre: 20\n",
            "Digite o nome da 2ª pessoa: jana\n",
            "Digite a idade de jana: 50\n",
            "Digite o nome da 3ª pessoa: celio\n",
            "Digite a idade de celio: 55\n",
            "Digite o nome da 4ª pessoa: matheus\n",
            "Digite a idade de matheus: 25\n",
            "Digite o nome da 5ª pessoa: filipe\n",
            "Digite a idade de filipe: 20\n",
            "Digite o nome da 6ª pessoa: ana \n",
            "Digite a idade de ana : 16\n",
            "Digite o nome da 7ª pessoa: leticia\n",
            "Digite a idade de leticia: 20\n",
            "Digite o nome da 8ª pessoa: arhtur\n",
            "Digite a idade de arhtur: 16\n",
            "Digite o nome da 9ª pessoa: luiz\n",
            "Digite a idade de luiz: 22\n",
            "Digite o nome da 10ª pessoa: pedro\n",
            "Digite a idade de pedro: 18\n",
            "A pessoa mais velha é: celio com 55 anos.\n"
          ]
        }
      ]
    },
    {
      "cell_type": "code",
      "source": [
        "#3. Faça um programa que leia uma lista de 10 números e divida todos os valores ímpares por 3 e os pares por 2, substituindo os valores originais.\n",
        "numeros = []\n",
        "for i in range(10):\n",
        "     num = int(input(f\"Digite o {i+1}º número: \"))\n",
        "if num % 2 == 0:\n",
        "        num = num / 2\n",
        "else:\n",
        "        num = num / 3\n",
        "numeros.append(num)\n",
        "print(numeros)\n"
      ],
      "metadata": {
        "colab": {
          "base_uri": "https://localhost:8080/"
        },
        "id": "0JiMkCYZECEP",
        "outputId": "3aeff5a8-f546-4f98-bae8-bad7c987856c"
      },
      "execution_count": 6,
      "outputs": [
        {
          "output_type": "stream",
          "name": "stdout",
          "text": [
            "Digite o 1º número: 1\n",
            "Digite o 2º número: 2\n",
            "Digite o 3º número: 3\n",
            "Digite o 4º número: 4\n",
            "Digite o 5º número: 5\n",
            "Digite o 6º número: 6\n",
            "Digite o 7º número: 7\n",
            "Digite o 8º número: 8\n",
            "Digite o 9º número: 9\n",
            "Digite o 10º número: 10\n",
            "[5.0]\n"
          ]
        }
      ]
    },
    {
      "cell_type": "code",
      "source": [
        "#4. Solicite ao usuário uma frase. Armazene em uma lista cada palavra que começa com uma vogal. Exiba a lista resultante.\n",
        "frase = input(\"Digite uma frase: \")\n",
        "palavras = frase.split()\n",
        "vogais = ['a', 'e', 'i', 'o', 'u']\n",
        "palavras_comecando_com_vogal = []\n",
        "for palavra in palavras:\n",
        "    if palavra[0].lower() in vogais:\n",
        "        palavras_comecando_com_vogal.append(palavra)\n",
        "        print(palavras_comecando_com_vogal)\n"
      ],
      "metadata": {
        "colab": {
          "base_uri": "https://localhost:8080/"
        },
        "id": "yLgeU4btC553",
        "outputId": "445718e8-d8d1-4968-edbb-b75636afa404"
      },
      "execution_count": 15,
      "outputs": [
        {
          "name": "stdout",
          "output_type": "stream",
          "text": [
            "Digite uma frase: faculdade\n"
          ]
        }
      ]
    },
    {
      "cell_type": "code",
      "source": [
        "#5. Leia 10 números inteiros e armazene-os em uma lista. Em seguida, crie uma segunda lista apenas com os números primos da primeira.\n",
        "numeros = [2,5,8,11,15,25,35,63,77,82]\n",
        "primos = [3,22,33,45,77,88,99,100,27,42]\n",
        "for i in range(10):\n",
        "    num = int(input(f\"Digite o {i+1}º número: \"))\n",
        "    numeros.append(num)\n",
        "\n",
        "for num in numeros:\n",
        "    if num > 1:\n",
        "        for i in range(2, num):\n",
        "            if (num % i) == 0:\n",
        "                break\n",
        "        else:\n",
        "            primos.append(num)\n",
        "            print(primos)\n",
        "\n",
        "\n"
      ],
      "metadata": {
        "colab": {
          "base_uri": "https://localhost:8080/"
        },
        "id": "68eU00YfHtaw",
        "outputId": "6559b5a3-da17-44db-bcd7-ea9b62c958a8"
      },
      "execution_count": 41,
      "outputs": [
        {
          "output_type": "stream",
          "name": "stdout",
          "text": [
            "Digite o 1º número: 1\n",
            "Digite o 2º número: 2\n",
            "Digite o 3º número: 3\n",
            "Digite o 4º número: 4\n",
            "Digite o 5º número: 5\n",
            "Digite o 6º número: 6\n",
            "Digite o 7º número: 7\n",
            "Digite o 8º número: 8\n",
            "Digite o 9º número: 9\n",
            "Digite o 10º número: 0\n",
            "[3, 22, 33, 45, 77, 88, 99, 100, 27, 42, 2]\n",
            "[3, 22, 33, 45, 77, 88, 99, 100, 27, 42, 2, 5]\n",
            "[3, 22, 33, 45, 77, 88, 99, 100, 27, 42, 2, 5, 11]\n",
            "[3, 22, 33, 45, 77, 88, 99, 100, 27, 42, 2, 5, 11, 2]\n",
            "[3, 22, 33, 45, 77, 88, 99, 100, 27, 42, 2, 5, 11, 2, 3]\n",
            "[3, 22, 33, 45, 77, 88, 99, 100, 27, 42, 2, 5, 11, 2, 3, 5]\n",
            "[3, 22, 33, 45, 77, 88, 99, 100, 27, 42, 2, 5, 11, 2, 3, 5, 7]\n"
          ]
        }
      ]
    },
    {
      "cell_type": "code",
      "source": [
        "#6. Escreva um programa que leia uma lista de 8 elementos e verifique se ela é palíndroma (lê-se igual de trás para frente).\n",
        "lista = []\n",
        "for i in range(8):\n",
        "    elemento = input(f\"Digite o {i+1}º elemento: \")\n",
        "    lista.append(elemento)\n",
        "    if lista == lista[::-1]:\n",
        "     print(\"A lista é palíndroma.\")\n",
        "else:\n",
        "    print(\"A lista NÃO é palíndroma.\")"
      ],
      "metadata": {
        "colab": {
          "base_uri": "https://localhost:8080/"
        },
        "id": "2jWIEfdCH4yf",
        "outputId": "45a47b4b-7f22-408f-f327-53bb7ca52262"
      },
      "execution_count": 16,
      "outputs": [
        {
          "output_type": "stream",
          "name": "stdout",
          "text": [
            "Digite o 1º elemento: 2\n",
            "A lista é palíndroma.\n",
            "Digite o 2º elemento: 3\n",
            "Digite o 3º elemento: 5\n",
            "Digite o 4º elemento: 7\n",
            "Digite o 5º elemento: 8\n",
            "Digite o 6º elemento: 1\n",
            "Digite o 7º elemento: 0\n",
            "Digite o 8º elemento: 4\n",
            "A lista NÃO é palíndroma.\n"
          ]
        }
      ]
    },
    {
      "cell_type": "code",
      "source": [
        "#7. Crie duas listas com 10 números inteiros aleatórios entre 1 e 100. Gere uma terceira lista contendo apenas os elementos que estão presentes em ambas (interseção).\n",
        "import random\n",
        "lista1 = [1,5,7,10,12,20,22,55,100,88]\n",
        "lista2 = [2,11,9,77,55,99,45,65,35,44]\n",
        "for i in range(10):\n",
        "    num = random.randint(1, 100)\n",
        "    lista1.append(num)\n",
        "for i in range(10):\n",
        "    num = random.randint(1, 100)\n",
        "    lista2.append(num)\n",
        "    intersecao = list(set(lista1) & set(lista2))\n",
        "    print(intersecao)"
      ],
      "metadata": {
        "colab": {
          "base_uri": "https://localhost:8080/"
        },
        "id": "vbdimOvLI6cX",
        "outputId": "db8b65d5-5637-46b8-d018-3bf852806db9"
      },
      "execution_count": 18,
      "outputs": [
        {
          "output_type": "stream",
          "name": "stdout",
          "text": [
            "[69, 55]\n",
            "[93, 69, 55]\n",
            "[93, 69, 55]\n",
            "[93, 69, 55]\n",
            "[93, 69, 55]\n",
            "[93, 69, 55]\n",
            "[93, 69, 55]\n",
            "[93, 69, 55]\n",
            "[93, 69, 55]\n",
            "[93, 69, 55]\n"
          ]
        }
      ]
    },
    {
      "cell_type": "code",
      "source": [
        "#8. Faça um programa que simule o sorteio de 6 números da Mega-Sena (entre 1 e 60) sem repetição. Armazene em uma lista e exiba.\n",
        "import random\n",
        "numeros_sorteados = []\n",
        "while len(numeros_sorteados) < 6:\n",
        "    numero = random.randint(1, 60)\n",
        "    if numero not in numeros_sorteados:\n",
        "        numeros_sorteados.append(numero)\n",
        "        print(numeros_sorteados)"
      ],
      "metadata": {
        "colab": {
          "base_uri": "https://localhost:8080/"
        },
        "id": "qi9_lR_UKBA0",
        "outputId": "9bff3eb1-05c8-440f-f879-3fdeb382f297"
      },
      "execution_count": 19,
      "outputs": [
        {
          "output_type": "stream",
          "name": "stdout",
          "text": [
            "[43]\n",
            "[43, 13]\n",
            "[43, 13, 21]\n",
            "[43, 13, 21, 32]\n",
            "[43, 13, 21, 32, 37]\n",
            "[43, 13, 21, 32, 37, 23]\n"
          ]
        }
      ]
    },
    {
      "cell_type": "code",
      "source": [
        "#9. Solicite ao usuário uma lista de 10 números. Crie uma nova lista onde cada elemento é o somatório de todos os elementos anteriores da lista original.\n",
        "lista = []\n",
        "for i in range(10):\n",
        "    num = int(input(f\"Digite o {i+1}º número: \"))\n",
        "    lista.append(num)\n",
        "    soma = sum(lista)\n",
        "    somatorios = []\n",
        "acumulado = 0\n",
        "\n",
        "for num in numeros:\n",
        "    somatorios.append(acumulado)\n",
        "    acumulado += num\n",
        "    print(somatorios)"
      ],
      "metadata": {
        "colab": {
          "base_uri": "https://localhost:8080/"
        },
        "id": "WeHuXdjnKOXg",
        "outputId": "8c9213b1-23db-4c55-8a76-4d73d92707e1"
      },
      "execution_count": 20,
      "outputs": [
        {
          "output_type": "stream",
          "name": "stdout",
          "text": [
            "Digite o 1º número: 1\n",
            "Digite o 2º número: 2\n",
            "Digite o 3º número: 3\n",
            "Digite o 4º número: 4\n",
            "Digite o 5º número: 5\n",
            "Digite o 6º número: 6\n",
            "Digite o 7º número: 7\n",
            "Digite o 8º número: 8\n",
            "Digite o 9º número: 9\n",
            "Digite o 10º número: 0\n",
            "[0]\n",
            "[0, 1]\n",
            "[0, 1, 3]\n",
            "[0, 1, 3, 6]\n",
            "[0, 1, 3, 6, 10]\n",
            "[0, 1, 3, 6, 10, 15]\n",
            "[0, 1, 3, 6, 10, 15, 21]\n",
            "[0, 1, 3, 6, 10, 15, 21, 28]\n",
            "[0, 1, 3, 6, 10, 15, 21, 28, 36]\n",
            "[0, 1, 3, 6, 10, 15, 21, 28, 36, 45]\n",
            "[0, 1, 3, 6, 10, 15, 21, 28, 36, 45, 55]\n",
            "[0, 1, 3, 6, 10, 15, 21, 28, 36, 45, 55, 66]\n",
            "[0, 1, 3, 6, 10, 15, 21, 28, 36, 45, 55, 66, 78]\n",
            "[0, 1, 3, 6, 10, 15, 21, 28, 36, 45, 55, 66, 78, 91]\n",
            "[0, 1, 3, 6, 10, 15, 21, 28, 36, 45, 55, 66, 78, 91, 105]\n"
          ]
        }
      ]
    },
    {
      "cell_type": "code",
      "source": [
        "#10. Implemente uma lista de nomes e remova todos que tenham mais de 10 caracteres.\n",
        "nomes = []\n",
        "for i in range(10):\n",
        "    nome = input(f\"Digite o {i+1}º nome: \")\n",
        "    nomes.append(nome)\n",
        "nomes_filtrados = [nome for nome in nomes if len(nome) <= 10]\n",
        "print(nomes_filtrados)\n",
        ""
      ],
      "metadata": {
        "colab": {
          "base_uri": "https://localhost:8080/"
        },
        "id": "fS_-RqHZKlrt",
        "outputId": "004e2996-7a6f-4c20-a69d-7b73317bbb16"
      },
      "execution_count": 22,
      "outputs": [
        {
          "output_type": "stream",
          "name": "stdout",
          "text": [
            "Digite o 1º nome: 1\n",
            "Digite o 2º nome: 2\n",
            "Digite o 3º nome: 3\n",
            "Digite o 4º nome: 4\n",
            "Digite o 5º nome: 5\n",
            "Digite o 6º nome: 6\n",
            "Digite o 7º nome: 7\n",
            "Digite o 8º nome: 8\n",
            "Digite o 9º nome: 9\n",
            "Digite o 10º nome: 0,\n",
            "['1', '2', '3', '4', '5', '6', '7', '8', '9', '0,']\n"
          ]
        }
      ]
    },
    {
      "cell_type": "code",
      "source": [
        "#11. Crie uma matriz 4x4 com valores fornecidos pelo usuário. Exiba a soma dos elementos da diagonal secundária.\n",
        "matriz = []\n",
        "for i in range(4):\n",
        "    linha = []\n",
        "    for j in range(4):\n",
        "        valor = int(input(f\"Digite o valor para a posição ({i+1}, {j+1}): \"))\n",
        "        linha.append(valor)\n",
        "        matriz.append(linha)\n",
        "        soma_diagonal_secundaria = 0\n",
        "for i in range(4):\n",
        "    soma_diagonal_secundaria += matriz[i][3 - i]\n",
        "    print(soma_diagonal_secundaria)"
      ],
      "metadata": {
        "colab": {
          "base_uri": "https://localhost:8080/"
        },
        "id": "wB7WS3d2LHsn",
        "outputId": "63211eee-3b97-4170-c674-8d5d0d4d0860"
      },
      "execution_count": 24,
      "outputs": [
        {
          "output_type": "stream",
          "name": "stdout",
          "text": [
            "Digite o valor para a posição (1, 1): 1\n",
            "Digite o valor para a posição (1, 2): 2\n",
            "Digite o valor para a posição (1, 3): 3\n",
            "Digite o valor para a posição (1, 4): 4\n",
            "Digite o valor para a posição (2, 1): 5\n",
            "Digite o valor para a posição (2, 2): 6\n",
            "Digite o valor para a posição (2, 3): 7\n",
            "Digite o valor para a posição (2, 4): 8\n",
            "Digite o valor para a posição (3, 1): 9\n",
            "Digite o valor para a posição (3, 2): 99\n",
            "Digite o valor para a posição (3, 3): 88\n",
            "Digite o valor para a posição (3, 4): 12\n",
            "Digite o valor para a posição (4, 1): 15\n",
            "Digite o valor para a posição (4, 2): 16\n",
            "Digite o valor para a posição (4, 3): 22\n",
            "Digite o valor para a posição (4, 4): 25\n",
            "4\n",
            "7\n",
            "9\n",
            "10\n"
          ]
        }
      ]
    },
    {
      "cell_type": "code",
      "source": [
        "#12. Gere uma matriz 5x5 com números aleatórios entre 1 e 99. Em seguida, calcule a média dos elementos de cada linha e armazene os resultados em uma nova lista.\n",
        "import random\n",
        "matriz = []\n",
        "for i in range(5):\n",
        "    linha = []\n",
        "    for j in range(5):\n",
        "        valor = random.randint(1, 99)\n",
        "        linha.append(valor)\n",
        "        matriz.append(linha)\n",
        "        media_linhas = [sum(linha) / len(linha) for linha in matriz]\n",
        "        print(media_linhas)\n",
        "\n"
      ],
      "metadata": {
        "colab": {
          "base_uri": "https://localhost:8080/"
        },
        "id": "yjqO_hFwLxrv",
        "outputId": "d635c160-66e8-4f49-ce9e-45621e8d0d04"
      },
      "execution_count": 25,
      "outputs": [
        {
          "output_type": "stream",
          "name": "stdout",
          "text": [
            "[2.0]\n",
            "[45.5, 45.5]\n",
            "[41.333333333333336, 41.333333333333336, 41.333333333333336]\n",
            "[52.75, 52.75, 52.75, 52.75]\n",
            "[55.2, 55.2, 55.2, 55.2, 55.2]\n",
            "[55.2, 55.2, 55.2, 55.2, 55.2, 74.0]\n",
            "[55.2, 55.2, 55.2, 55.2, 55.2, 58.5, 58.5]\n",
            "[55.2, 55.2, 55.2, 55.2, 55.2, 60.666666666666664, 60.666666666666664, 60.666666666666664]\n",
            "[55.2, 55.2, 55.2, 55.2, 55.2, 59.75, 59.75, 59.75, 59.75]\n",
            "[55.2, 55.2, 55.2, 55.2, 55.2, 62.0, 62.0, 62.0, 62.0, 62.0]\n",
            "[55.2, 55.2, 55.2, 55.2, 55.2, 62.0, 62.0, 62.0, 62.0, 62.0, 2.0]\n",
            "[55.2, 55.2, 55.2, 55.2, 55.2, 62.0, 62.0, 62.0, 62.0, 62.0, 11.0, 11.0]\n",
            "[55.2, 55.2, 55.2, 55.2, 55.2, 62.0, 62.0, 62.0, 62.0, 62.0, 36.0, 36.0, 36.0]\n",
            "[55.2, 55.2, 55.2, 55.2, 55.2, 62.0, 62.0, 62.0, 62.0, 62.0, 48.75, 48.75, 48.75, 48.75]\n",
            "[55.2, 55.2, 55.2, 55.2, 55.2, 62.0, 62.0, 62.0, 62.0, 62.0, 46.2, 46.2, 46.2, 46.2, 46.2]\n",
            "[55.2, 55.2, 55.2, 55.2, 55.2, 62.0, 62.0, 62.0, 62.0, 62.0, 46.2, 46.2, 46.2, 46.2, 46.2, 43.0]\n",
            "[55.2, 55.2, 55.2, 55.2, 55.2, 62.0, 62.0, 62.0, 62.0, 62.0, 46.2, 46.2, 46.2, 46.2, 46.2, 66.0, 66.0]\n",
            "[55.2, 55.2, 55.2, 55.2, 55.2, 62.0, 62.0, 62.0, 62.0, 62.0, 46.2, 46.2, 46.2, 46.2, 46.2, 45.0, 45.0, 45.0]\n",
            "[55.2, 55.2, 55.2, 55.2, 55.2, 62.0, 62.0, 62.0, 62.0, 62.0, 46.2, 46.2, 46.2, 46.2, 46.2, 50.0, 50.0, 50.0, 50.0]\n",
            "[55.2, 55.2, 55.2, 55.2, 55.2, 62.0, 62.0, 62.0, 62.0, 62.0, 46.2, 46.2, 46.2, 46.2, 46.2, 54.6, 54.6, 54.6, 54.6, 54.6]\n",
            "[55.2, 55.2, 55.2, 55.2, 55.2, 62.0, 62.0, 62.0, 62.0, 62.0, 46.2, 46.2, 46.2, 46.2, 46.2, 54.6, 54.6, 54.6, 54.6, 54.6, 76.0]\n",
            "[55.2, 55.2, 55.2, 55.2, 55.2, 62.0, 62.0, 62.0, 62.0, 62.0, 46.2, 46.2, 46.2, 46.2, 46.2, 54.6, 54.6, 54.6, 54.6, 54.6, 86.0, 86.0]\n",
            "[55.2, 55.2, 55.2, 55.2, 55.2, 62.0, 62.0, 62.0, 62.0, 62.0, 46.2, 46.2, 46.2, 46.2, 46.2, 54.6, 54.6, 54.6, 54.6, 54.6, 77.0, 77.0, 77.0]\n",
            "[55.2, 55.2, 55.2, 55.2, 55.2, 62.0, 62.0, 62.0, 62.0, 62.0, 46.2, 46.2, 46.2, 46.2, 46.2, 54.6, 54.6, 54.6, 54.6, 54.6, 72.75, 72.75, 72.75, 72.75]\n",
            "[55.2, 55.2, 55.2, 55.2, 55.2, 62.0, 62.0, 62.0, 62.0, 62.0, 46.2, 46.2, 46.2, 46.2, 46.2, 54.6, 54.6, 54.6, 54.6, 54.6, 70.0, 70.0, 70.0, 70.0, 70.0]\n"
          ]
        }
      ]
    },
    {
      "cell_type": "code",
      "source": [
        "#13. Solicite uma matriz 3x3 preenchida pelo usuário. Verifique se ela é uma matriz identidade.\n",
        "matriz = []\n",
        "for i in range(3):\n",
        "    linha = []\n",
        "    for j in range(3):\n",
        "        valor = int(input(f\"Digite o valor para a posição ({i+1}, {j+1}): \"))\n",
        "        linha.append(valor)\n",
        "        matriz.append(linha)\n",
        "        if all(matriz[i][j] == 1 for j in range(3)) and all(matriz[j][i] == 0 for j in range(3)):\n",
        "            print(\"A matriz é uma matriz identidade.\")\n",
        "            break\n",
        "        else:\n",
        "            print(\"A matriz NÃO é uma matriz identidade.\")\n",
        "            2\n",
        "\n",
        "\n"
      ],
      "metadata": {
        "colab": {
          "base_uri": "https://localhost:8080/"
        },
        "id": "vsiw2TLhMkmg",
        "outputId": "b304b16d-92c6-44c0-81a2-fd152c8e8a3c"
      },
      "execution_count": 29,
      "outputs": [
        {
          "output_type": "stream",
          "name": "stdout",
          "text": [
            "Digite o valor para a posição (1, 1): 2\n",
            "A matriz NÃO é uma matriz identidade.\n",
            "Digite o valor para a posição (1, 2): 3\n",
            "A matriz NÃO é uma matriz identidade.\n",
            "Digite o valor para a posição (1, 3): 4\n",
            "A matriz NÃO é uma matriz identidade.\n",
            "Digite o valor para a posição (2, 1): 5\n",
            "A matriz NÃO é uma matriz identidade.\n",
            "Digite o valor para a posição (2, 2): 6\n",
            "A matriz NÃO é uma matriz identidade.\n",
            "Digite o valor para a posição (2, 3): 7\n",
            "A matriz NÃO é uma matriz identidade.\n",
            "Digite o valor para a posição (3, 1): 8\n",
            "A matriz NÃO é uma matriz identidade.\n",
            "Digite o valor para a posição (3, 2): 9\n",
            "A matriz NÃO é uma matriz identidade.\n",
            "Digite o valor para a posição (3, 3): 20\n",
            "A matriz NÃO é uma matriz identidade.\n"
          ]
        }
      ]
    },
    {
      "cell_type": "code",
      "source": [
        "#14. Faça um programa que leia uma matriz 3x3 e verifique se ela é simétrica (igual à sua transposta).\n",
        "matriz = []\n",
        "for i in range(3):\n",
        "    linha = []\n",
        "    for j in range(3):\n",
        "        valor = int(input(f\"Digite o valor para a posição [{i}][{j}]: \"))\n",
        "        linha.append(valor)\n",
        "    matriz.append(linha)\n",
        "    simetrica = True\n",
        "for i in range(3):\n",
        "    for j in range(3):\n",
        "        if matriz[i][j] != matriz[j][i]:\n",
        "            simetrica = False\n",
        "            break\n",
        "    if not simetrica:\n",
        "        break\n",
        "if simetrica:\n",
        "    print(\"A matriz é simétrica.\")\n",
        "else:\n",
        "    print(\"A matriz NÃO é simétrica.\")\n",
        "\n",
        "\n",
        "\n",
        "\n"
      ],
      "metadata": {
        "colab": {
          "base_uri": "https://localhost:8080/"
        },
        "id": "JkDXsVJ3NWZx",
        "outputId": "2e944f69-cdd2-4e32-d8ad-9f0fe7d5b96b"
      },
      "execution_count": 37,
      "outputs": [
        {
          "output_type": "stream",
          "name": "stdout",
          "text": [
            "Digite o valor para a posição [0][0]: 1\n",
            "Digite o valor para a posição [0][1]: 2\n",
            "Digite o valor para a posição [0][2]: 3\n",
            "Digite o valor para a posição [1][0]: 4\n",
            "Digite o valor para a posição [1][1]: 5\n",
            "Digite o valor para a posição [1][2]: 6\n",
            "Digite o valor para a posição [2][0]: 7\n",
            "Digite o valor para a posição [2][1]: 8\n",
            "Digite o valor para a posição [2][2]: 9\n",
            "A matriz NÃO é simétrica.\n"
          ]
        }
      ]
    },
    {
      "cell_type": "code",
      "source": [
        "#15. Crie uma matriz 5x3 onde cada elemento é igual ao produto de sua linha pelo valor da coluna. Exiba a matriz completa.\n",
        "matriz = []\n",
        "for i in range(5):\n",
        "    linha = []\n",
        "    for j in range(3):\n",
        "        valor = i * j\n",
        "        linha.append(valor)\n",
        "        matriz.append(linha)\n",
        "        print(matriz)\n",
        "for linha in matriz:\n",
        " print(linha)"
      ],
      "metadata": {
        "colab": {
          "base_uri": "https://localhost:8080/"
        },
        "id": "PuFY-9XGPFTc",
        "outputId": "06b1c581-6893-4334-ba44-56f3c7467a0e"
      },
      "execution_count": 38,
      "outputs": [
        {
          "output_type": "stream",
          "name": "stdout",
          "text": [
            "[[0]]\n",
            "[[0, 0], [0, 0]]\n",
            "[[0, 0, 0], [0, 0, 0], [0, 0, 0]]\n",
            "[[0, 0, 0], [0, 0, 0], [0, 0, 0], [0]]\n",
            "[[0, 0, 0], [0, 0, 0], [0, 0, 0], [0, 1], [0, 1]]\n",
            "[[0, 0, 0], [0, 0, 0], [0, 0, 0], [0, 1, 2], [0, 1, 2], [0, 1, 2]]\n",
            "[[0, 0, 0], [0, 0, 0], [0, 0, 0], [0, 1, 2], [0, 1, 2], [0, 1, 2], [0]]\n",
            "[[0, 0, 0], [0, 0, 0], [0, 0, 0], [0, 1, 2], [0, 1, 2], [0, 1, 2], [0, 2], [0, 2]]\n",
            "[[0, 0, 0], [0, 0, 0], [0, 0, 0], [0, 1, 2], [0, 1, 2], [0, 1, 2], [0, 2, 4], [0, 2, 4], [0, 2, 4]]\n",
            "[[0, 0, 0], [0, 0, 0], [0, 0, 0], [0, 1, 2], [0, 1, 2], [0, 1, 2], [0, 2, 4], [0, 2, 4], [0, 2, 4], [0]]\n",
            "[[0, 0, 0], [0, 0, 0], [0, 0, 0], [0, 1, 2], [0, 1, 2], [0, 1, 2], [0, 2, 4], [0, 2, 4], [0, 2, 4], [0, 3], [0, 3]]\n",
            "[[0, 0, 0], [0, 0, 0], [0, 0, 0], [0, 1, 2], [0, 1, 2], [0, 1, 2], [0, 2, 4], [0, 2, 4], [0, 2, 4], [0, 3, 6], [0, 3, 6], [0, 3, 6]]\n",
            "[[0, 0, 0], [0, 0, 0], [0, 0, 0], [0, 1, 2], [0, 1, 2], [0, 1, 2], [0, 2, 4], [0, 2, 4], [0, 2, 4], [0, 3, 6], [0, 3, 6], [0, 3, 6], [0]]\n",
            "[[0, 0, 0], [0, 0, 0], [0, 0, 0], [0, 1, 2], [0, 1, 2], [0, 1, 2], [0, 2, 4], [0, 2, 4], [0, 2, 4], [0, 3, 6], [0, 3, 6], [0, 3, 6], [0, 4], [0, 4]]\n",
            "[[0, 0, 0], [0, 0, 0], [0, 0, 0], [0, 1, 2], [0, 1, 2], [0, 1, 2], [0, 2, 4], [0, 2, 4], [0, 2, 4], [0, 3, 6], [0, 3, 6], [0, 3, 6], [0, 4, 8], [0, 4, 8], [0, 4, 8]]\n",
            "[0, 0, 0]\n",
            "[0, 0, 0]\n",
            "[0, 0, 0]\n",
            "[0, 1, 2]\n",
            "[0, 1, 2]\n",
            "[0, 1, 2]\n",
            "[0, 2, 4]\n",
            "[0, 2, 4]\n",
            "[0, 2, 4]\n",
            "[0, 3, 6]\n",
            "[0, 3, 6]\n",
            "[0, 3, 6]\n",
            "[0, 4, 8]\n",
            "[0, 4, 8]\n",
            "[0, 4, 8]\n"
          ]
        }
      ]
    },
    {
      "cell_type": "markdown",
      "source": [],
      "metadata": {
        "id": "PXn9MO01Bgrg"
      }
    },
    {
      "cell_type": "markdown",
      "source": [],
      "metadata": {
        "id": "FYSLWejhBgLA"
      }
    }
  ]
}