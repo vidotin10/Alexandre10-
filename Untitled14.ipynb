{
  "nbformat": 4,
  "nbformat_minor": 0,
  "metadata": {
    "colab": {
      "provenance": [],
      "authorship_tag": "ABX9TyOissr49s/fTDW9uOCzEBY8",
      "include_colab_link": true
    },
    "kernelspec": {
      "name": "python3",
      "display_name": "Python 3"
    },
    "language_info": {
      "name": "python"
    }
  },
  "cells": [
    {
      "cell_type": "markdown",
      "metadata": {
        "id": "view-in-github",
        "colab_type": "text"
      },
      "source": [
        "<a href=\"https://colab.research.google.com/github/vidotin10/Alexandre10-/blob/main/Untitled14.ipynb\" target=\"_parent\"><img src=\"https://colab.research.google.com/assets/colab-badge.svg\" alt=\"Open In Colab\"/></a>"
      ]
    },
    {
      "cell_type": "markdown",
      "source": [
        "Atividade Avaliativa | Alexandre Vidoto Pereria e Pedro Henrique Ferreira Piana"
      ],
      "metadata": {
        "id": "36s-YpYbagiq"
      }
    },
    {
      "cell_type": "code",
      "source": [
        "#01 Crie um algoritmo que receba o horário (hora e minuto) de entrada e saída de um funcionário em um dia de trabalho. Calcule o tempo total trabalhado em horas e minutos, considerando que ele teve uma pausa de 1h para almoço, e diga se ele cumpriu uma jornada de pelo menos 8h diárias.\n",
        "def calcular_jornada():\n",
        "    hora_entrada = int(input(\"Digite a hora de entrada (0-23): \"))\n",
        "    minuto_entrada = int(input(\"Digite os minutos de entrada (0-59): \"))\n",
        "    hora_saida = int(input(\"Digite a hora de saída (0-23): \"))\n",
        "    minuto_saida = int(input(\"Digite os minutos de saída (0-59): \"))\n",
        "    entrada_minutos = hora_entrada * 60 + minuto_entrada\n",
        "    saida_minutos = hora_saida * 60 + minuto_saida\n",
        "    tempo_trabalhado = saida_minutos - entrada_minutos - 60\n",
        "    horas = tempo_trabalhado // 60\n",
        "    minutos = tempo_trabalhado % 60\n",
        "    if tempo_trabalhado >= 480:\n",
        "        status = \"Jornada de 8h cumprida.\"\n",
        "    else:\n",
        "        status = \"Jornada de 8h **não** cumprida.\"\n",
        "    print(f\"\\nTempo total trabalhado: {horas} horas e {minutos} minutos.\")\n",
        "    print(status)\n",
        "calcular_jornada()"
      ],
      "metadata": {
        "colab": {
          "base_uri": "https://localhost:8080/"
        },
        "id": "hdrRYWd5bFD6",
        "outputId": "29fd0cd6-0efa-4708-abde-b9d98b6b0c40"
      },
      "execution_count": 3,
      "outputs": [
        {
          "output_type": "stream",
          "name": "stdout",
          "text": [
            "Digite a hora de entrada (0-23): 20\n",
            "Digite os minutos de entrada (0-59): 55\n",
            "Digite a hora de saída (0-23): 19\n",
            "Digite os minutos de saída (0-59): 58\n",
            "\n",
            "Tempo total trabalhado: -2 horas e 3 minutos.\n",
            "Jornada de 8h **não** cumprida.\n"
          ]
        }
      ]
    },
    {
      "cell_type": "code",
      "source": [
        "#02 Crie um algoritmo que receba a data de nascimento (dia, mês e ano) de uma pessoa e a data atual, e diga com precisão sua idade em anos, meses e dias. Use condicionais para lidar com casos em que o mês ou dia ainda não tenha sido atingido no ano corrente.\n",
        "def calcular_idade():\n",
        "\n",
        "    dia_nasc = int(input(\"Dia de nascimento: \"))\n",
        "    mes_nasc = int(input(\"Mês de nascimento: \"))\n",
        "    ano_nasc = int(input(\"Ano de nascimento: \"))\n",
        "    dia_atual = int(input(\"Dia atual: \"))\n",
        "    mes_atual = int(input(\"Mês atual: \"))\n",
        "    ano_atual = int(input(\"Ano atual: \"))\n",
        "    dias_mes = [31, 28, 31, 30, 31, 30, 31, 31, 30, 31, 30, 31]\n",
        "    anos = ano_atual - ano_nasc\n",
        "    meses = mes_atual - mes_nasc\n",
        "    dias = dia_atual - dia_nasc\n",
        "    if dias < 0:\n",
        "        meses -= 1\n",
        "        dias += dias_mes[(mes_atual - 2) % 12]\n",
        "    if meses < 0:\n",
        "        anos -= 1\n",
        "        meses += 12\n",
        "\n",
        "    print(f\"\\nIdade: {anos} anos, {meses} meses e {dias} dias.\")\n",
        "calcular_idade()"
      ],
      "metadata": {
        "colab": {
          "base_uri": "https://localhost:8080/"
        },
        "id": "gD4mjf9wcxTD",
        "outputId": "0a40a8c7-4ad5-4fb7-be3e-62bd760eda13"
      },
      "execution_count": 4,
      "outputs": [
        {
          "output_type": "stream",
          "name": "stdout",
          "text": [
            "Dia de nascimento: 19\n",
            "Mês de nascimento: 10\n",
            "Ano de nascimento: 2002\n",
            "Dia atual: 05\n",
            "Mês atual: 05\n",
            "Ano atual: 2025\n",
            "\n",
            "Idade: 22 anos, 6 meses e 16 dias.\n"
          ]
        }
      ]
    },
    {
      "cell_type": "code",
      "source": [
        "#03 Elabore um algoritmo que simule um monitor de qualidade do ar. O usuário informará 3 valores de índice de poluentes de diferentes horários de um mesmo dia. O programa deve calcular a média e classificar como \"bom\", \"moderado\", \"ruim\", \"muito ruim\" ou \"péssimo\", com base em faixas fornecidas pelo código.\n",
        "def monitor_qualidade():\n",
        "    hora1 = float(input(\"Digite o índice de poluentes na hora 1: \"))\n",
        "    hora2 = float(input(\"Digite o índice de poluentes na hora 2: \"))\n",
        "    hora3 = float(input(\"Digite o índice de poluentes na hora 3: \"))\n",
        "    media = (hora1 + hora2 + hora3) / 3\n",
        "    if media <= 50:\n",
        "        print(\"Índice de poluentes: Bom\")\n",
        "        print(f\"Média de poluentes: {media}\")\n",
        "    elif media <= 100:\n",
        "        print(\"Índice de poluentes: Moderado\")\n",
        "        print(f\"Média de poluentes: {media}\")\n",
        "    elif media <= 150:\n",
        "        print(\"Índice de poluentes: Ruim\")\n",
        "        print(f\"Média de poluentes: {media}\")\n",
        "    elif media <= 200:\n",
        "        print(\"Índice de poluentes: Muito ruim\")\n",
        "        print(f\"Média de poluentes: {media}\")\n",
        "    else:\n",
        "        print(\"Índice de poluentes: Péssimo\")\n",
        "        print(f\"Média de poluentes: {media}\")\n",
        "monitor_qualidade()\n"
      ],
      "metadata": {
        "colab": {
          "base_uri": "https://localhost:8080/"
        },
        "id": "i9bEaeyPc2jv",
        "outputId": "19f9aecc-3b82-45ed-f758-eb21ac3f2198"
      },
      "execution_count": 5,
      "outputs": [
        {
          "output_type": "stream",
          "name": "stdout",
          "text": [
            "Digite o índice de poluentes na hora 1: 7\n",
            "Digite o índice de poluentes na hora 2: 6\n",
            "Digite o índice de poluentes na hora 3: 9\n",
            "Índice de poluentes: Bom\n",
            "Média de poluentes: 7.333333333333333\n"
          ]
        }
      ]
    },
    {
      "cell_type": "code",
      "source": [
        "#04 Desenvolva um algoritmo que simule a geração de um extrato de abastecimento de combustível. O usuário deve informar o valor em reais que abasteceu, o preço do litro e a quilometragem inicial e final da viagem. Calcule quantos litros foram colocados e a média de km/l, informando se o carro teve desempenho bom (acima de 12 km/l), médio (8-12 km/l) ou ruim (abaixo de 8 km/l).\n",
        "def abastecimento():\n",
        "    valor_abastecido = float(input(\"Digite o valor em reais abastecido: \"))\n",
        "    preco_litro = float(input(\"Digite o preço do litro de combustível: \"))\n",
        "    km_inicial = float(input(\"Digite a quilometragem inicial: \"))\n",
        "    km_final = float(input(\"Digite a quilometragem final: \"))\n",
        "    litros_colocados = valor_abastecido / preco_litro\n",
        "    km_rodados = km_final - km_inicial\n",
        "    media_km_l = km_rodados / litros_colocados\n",
        "    if media_km_l > 12:\n",
        "        print(\"Desempenho do carro: Bom\")\n",
        "        print(f\"Litros colocados: {litros_colocados}\")\n",
        "        print(f\"Média de km/l: {media_km_l}\")\n",
        "    elif media_km_l >= 8:\n",
        "        print(\"Desempenho do carro: Médio\")\n",
        "        print(f\"Litros colocados: {litros_colocados}\")\n",
        "        print(f\"Média de km/l: {media_km_l}\")\n",
        "    else:\n",
        "        print(\"Desempenho do carro: Ruim\")\n",
        "        print(f\"Litros colocados: {litros_colocados}\")\n",
        "        print(f\"Média de km/l: {media_km_l}\")\n",
        "abastecimento()"
      ],
      "metadata": {
        "colab": {
          "base_uri": "https://localhost:8080/"
        },
        "id": "d1GggIMac8IT",
        "outputId": "a3b39f12-6b43-454b-8ffd-c623c74c3421"
      },
      "execution_count": 6,
      "outputs": [
        {
          "output_type": "stream",
          "name": "stdout",
          "text": [
            "Digite o valor em reais abastecido: 70\n",
            "Digite o preço do litro de combustível: 5\n",
            "Digite a quilometragem inicial: 100\n",
            "Digite a quilometragem final: 105\n",
            "Desempenho do carro: Ruim\n",
            "Litros colocados: 14.0\n",
            "Média de km/l: 0.35714285714285715\n"
          ]
        }
      ]
    },
    {
      "cell_type": "code",
      "source": [
        "#05 Crie um algoritmo que pergunte o nome e o tempo total (em minutos) gasto por uma pessoa em atividades físicas durante 7 dias. Ao final, mostre a média diária, a soma total e diga se ela atingiu o mínimo recomendado de 150 minutos semanais.\n",
        "def atividade_fisica():\n",
        "    nome = input(\"Digite seu nome: \")\n",
        "    total_minutos = 0\n",
        "    for i in range(7):\n",
        "        dia = int(input(f\"Digite o tempo gasto em minutos no dia {i+1}: \"))\n",
        "        total_minutos += dia\n",
        "        media_diaria = total_minutos / 7\n",
        "    soma_total = total_minutos\n",
        "    if soma_total >= 150:\n",
        "        print(f\"{nome}, você atingiu o mínimo recomendado de 150 minutos semanais.\")\n",
        "        print(f\"Média diária: {media_diaria} minutos\")\n",
        "        print(f\"Soma total: {soma_total} minutos\")\n",
        "    else:\n",
        "        print(f\"{nome}, você não atingiu o mínimo recomendado de 150 minutos semanais.\")\n",
        "        print(f\"Média diária: {media_diaria} minutos\")\n",
        "        print(f\"Soma total: {soma_total} minutos\")\n",
        "atividade_fisica()"
      ],
      "metadata": {
        "colab": {
          "base_uri": "https://localhost:8080/"
        },
        "id": "UvNTVQD2c_Jv",
        "outputId": "d77d0181-5a4d-4baf-f6df-337c2aed9639"
      },
      "execution_count": 2,
      "outputs": [
        {
          "output_type": "stream",
          "name": "stdout",
          "text": [
            "Digite seu nome: alexandre\n",
            "Digite o tempo gasto em minutos no dia 1: 10\n",
            "Digite o tempo gasto em minutos no dia 2: 20\n",
            "Digite o tempo gasto em minutos no dia 3: 60\n",
            "Digite o tempo gasto em minutos no dia 4: 50\n",
            "Digite o tempo gasto em minutos no dia 5: 40\n",
            "Digite o tempo gasto em minutos no dia 6: 10\n",
            "Digite o tempo gasto em minutos no dia 7: 50\n",
            "alexandre, você atingiu o mínimo recomendado de 150 minutos semanais.\n",
            "Média diária: 34.285714285714285 minutos\n",
            "Soma total: 240 minutos\n"
          ]
        }
      ]
    },
    {
      "cell_type": "code",
      "source": [
        "#06 Desenvolva um algoritmo que simule o acompanhamento de consumo de água em uma residência. O usuário informará o valor do hidrômetro no início e no fim do mês. O sistema calculará o total consumido e o valor a pagar, seguindo uma tabela de faixas de consumo (ex: até 10 m³, tarifa fixa; de 11 a 20, valor extra por m³; acima de 20, tarifa mais alta).\n",
        "def consumo_agua():\n",
        "    hidrômetro_inicio = float(input(\"Digite o valor do hidrômetro no início do mês: \"))\n",
        "    hidrômetro_fim = float(input(\"Digite o valor do hidrômetro no fim do mês: \"))\n",
        "    consumo = hidrômetro_fim - hidrômetro_inicio\n",
        "    if consumo <= 10:\n",
        "        valor_pagar = 50 + consumo * 0.5\n",
        "        print(f\"Consumo: {consumo} m³\")\n",
        "        print(f\"Valor a pagar: R${valor_pagar:.2f}\")\n",
        "    elif consumo <= 20:\n",
        "        valor_pagar = 50 + 10 * 0.5 + (consumo - 10) * 1\n",
        "        print(f\"Consumo: {consumo} m³\")\n",
        "        print(f\"Valor a pagar: R${valor_pagar:.2f}\")\n",
        "    else:\n",
        "        valor_pagar = 50 + 10 * 0.5 + 10 * 1 + (consumo - 20) * 2\n",
        "        print(f\"Consumo: {consumo} m³\")\n",
        "        print(f\"Valor a pagar: R${valor_pagar:.2f}\")\n",
        "consumo_agua()"
      ],
      "metadata": {
        "colab": {
          "base_uri": "https://localhost:8080/"
        },
        "id": "hagPbzcJNJqf",
        "outputId": "6782402e-ab1a-476a-c546-b9e4bd182443"
      },
      "execution_count": 3,
      "outputs": [
        {
          "output_type": "stream",
          "name": "stdout",
          "text": [
            "Digite o valor do hidrômetro no início do mês: 5\n",
            "Digite o valor do hidrômetro no fim do mês: 7\n",
            "Consumo: 2.0 m³\n",
            "Valor a pagar: R$51.00\n"
          ]
        }
      ]
    },
    {
      "cell_type": "code",
      "source": [
        "#07 Elabore um algoritmo que simule a pontualidade de voos. Receba o horário previsto e o horário real de chegada (hora e minuto). Informe o tempo de atraso ou adiantamento e classifique o voo como “pontual” (diferença ≤ 5 min), “ligeiramente atrasado/adiantado” (até 30 min) ou “muito atrasado/adiantado” (> 30 min).\n",
        "def pontualidade_voos():\n",
        "    hora_prevista = int(input(\"Digite a hora prevista (0-23): \"))\n",
        "    minuto_prevista = int(input(\"Digite os minutos previstos (0-59): \"))\n",
        "    hora_real = int(input(\"Digite a hora real (0-23): \"))\n",
        "    minuto_real = int(input(\"Digite os minutos reais (0-59): \"))\n",
        "    prevista_minutos = hora_prevista * 60 + minuto_prevista\n",
        "    real_minutos = hora_real * 60 + minuto_real\n",
        "    tempo_atraso = real_minutos - prevista_minutos\n",
        "    if tempo_atraso <= 5:\n",
        "        print(\"Voo pontual.\")\n",
        "    elif tempo_atraso <= 30:\n",
        "        print(\"Voo ligeiramente atrasado/adiantado.\")\n",
        "        print(f\"Tempo de atraso/adiantamento: {tempo_atraso} minutos\")\n",
        "    else:\n",
        "        print(\"Voo muito atrasado/adiantado.\")\n",
        "        print(f\"Tempo de atraso/adiantamento: {tempo_atraso} minutos\")\n",
        "pontualidade_voos()\n"
      ],
      "metadata": {
        "colab": {
          "base_uri": "https://localhost:8080/"
        },
        "id": "0PDyKyHlNOGU",
        "outputId": "89cbfa4f-671f-4227-d7bd-2c3b387f0a72"
      },
      "execution_count": 4,
      "outputs": [
        {
          "output_type": "stream",
          "name": "stdout",
          "text": [
            "Digite a hora prevista (0-23): 20\n",
            "Digite os minutos previstos (0-59): 55\n",
            "Digite a hora real (0-23): 19\n",
            "Digite os minutos reais (0-59): 45\n",
            "Voo pontual.\n"
          ]
        }
      ]
    },
    {
      "cell_type": "code",
      "source": [
        "#08 Crie um algoritmo que simule o cálculo de tempo total de tela (TV, celular, computador). Para cada dispositivo, o usuário informa quanto tempo usou por dia (em horas e minutos) por 3 dias. O sistema deve apresentar o tempo total em horas e minutos, destacando o aparelho com maior uso e emitindo um alerta caso o total passe de 10 horas diárias.\n",
        "def tempo_total_tela():\n",
        "    tv_hora = int(input(\"Digite a quantidade de horas de TV por dia: \"))\n",
        "    tv_minuto = int(input(\"Digite a quantidade de minutos de TV por dia: \"))\n",
        "    celular_hora = int(input(\"Digite a quantidade de horas de celular por dia: \"))\n",
        "    celular_minuto = int(input(\"Digite a quantidade de minutos de celular por dia: \"))\n",
        "    computador_hora = int(input(\"Digite a quantidade de horas de computador por dia: \"))\n",
        "    computador_minuto = int(input(\"Digite a quantidade de minutos de computador por dia: \"))\n",
        "    tv_minutos = tv_hora * 60 + tv_minuto\n",
        "    celular_minutos = celular_hora * 60 + celular_minuto\n",
        "    computador_minutos = computador_hora * 60 + computador_minuto\n",
        "    total_minutos = tv_minutos + celular_minutos + computador_minutos\n",
        "    total_horas = total_minutos // 60\n",
        "    total_minutos = total_minutos % 60\n",
        "    if total_horas > 10:\n",
        "        print(\"Alerta: Tempo total de tela excedido.\")\n",
        "    print(f\"Tempo total de tela: {total_horas} horas e {total_minutos} minutos.\")\n",
        "tempo_total_tela()"
      ],
      "metadata": {
        "colab": {
          "base_uri": "https://localhost:8080/"
        },
        "id": "D25Dp9v9NTqc",
        "outputId": "979160a5-9a0c-4864-9c55-b82dad07c8d6"
      },
      "execution_count": 5,
      "outputs": [
        {
          "output_type": "stream",
          "name": "stdout",
          "text": [
            "Digite a quantidade de horas de TV por dia: 3\n",
            "Digite a quantidade de minutos de TV por dia: 180\n",
            "Digite a quantidade de horas de celular por dia: 2\n",
            "Digite a quantidade de minutos de celular por dia: 120\n",
            "Digite a quantidade de horas de computador por dia: 1\n",
            "Digite a quantidade de minutos de computador por dia: 60\n",
            "Alerta: Tempo total de tela excedido.\n",
            "Tempo total de tela: 12 horas e 0 minutos.\n"
          ]
        }
      ]
    },
    {
      "cell_type": "code",
      "source": [
        "#09 Elabore um algoritmo que simule o rendimento de um plantio de hortaliças. Receba a área (em m²), o tipo da planta (cenoura, alface ou couve) e o rendimento médio por m². Calcule a produção esperada e diga se será suficiente para abastecer um mercado local (mínimo de 100 kg).\n",
        "def rendimento_hortalicas():\n",
        "    area = float(input(\"Digite a área (em m²) do plantio: \"))\n",
        "    tipo = input(\"Digite o tipo da planta (cenoura, alface ou couve): \")\n",
        "    rendimento = float(input(\"Digite o rendimento médio por m²: \"))\n",
        "    producao_esperada = area * rendimento\n",
        "    if producao_esperada >= 100:\n",
        "        print(\"Será suficiente para abastecer um mercado local.\")\n",
        "        print(f\"Produção esperada: {producao_esperada} kg\")\n",
        "    else:\n",
        "        print(\"Não será suficiente para abastecer um mercado local.\")\n",
        "        print(f\"Produção esperada: {producao_esperada} kg\")\n",
        "rendimento_hortalicas()"
      ],
      "metadata": {
        "colab": {
          "base_uri": "https://localhost:8080/"
        },
        "id": "lQXJakpiNWx1",
        "outputId": "75d25bfe-9421-4c54-cb0f-3aac0d5f3aaa"
      },
      "execution_count": 6,
      "outputs": [
        {
          "output_type": "stream",
          "name": "stdout",
          "text": [
            "Digite a área (em m²) do plantio: 100\n",
            "Digite o tipo da planta (cenoura, alface ou couve): alface\n",
            "Digite o rendimento médio por m²: 200\n",
            "Será suficiente para abastecer um mercado local.\n",
            "Produção esperada: 20000.0 kg\n"
          ]
        }
      ]
    },
    {
      "cell_type": "code",
      "source": [
        "#10 Crie um algoritmo que simule um plano de leitura. O usuário informa a quantidade de páginas de um livro, o tempo diário disponível para leitura (em minutos) e a velocidade média de leitura (páginas por minuto). O programa deve estimar quantos dias ele levará para terminar e sugerir um cronograma diário\n",
        "def plano_leitura():\n",
        "    paginas = int(input(\"Digite a quantidade de páginas do livro: \"))\n",
        "    tempo_disponivel = int(input(\"Digite o tempo diário disponível para leitura (em minutos): \"))\n",
        "    velocidade_media = int(input(\"Digite a velocidade média de leitura (páginas por minuto): \"))\n",
        "    paginas_por_dia = tempo_disponivel / velocidade_media\n",
        "    dias_necessarios = paginas / paginas_por_dia\n",
        "    print(f\"Você levará {dias_necessarios:.2f} dias para terminar o livro.\")\n",
        "    print(\"Cronograma diário:\")\n",
        "    for i in range(int(dias_necessarios)):\n",
        "        print(f\"Dia {i+1}: {paginas_por_dia} páginas\")\n",
        "plano_leitura()"
      ],
      "metadata": {
        "colab": {
          "base_uri": "https://localhost:8080/"
        },
        "id": "S4iMrKiHNb74",
        "outputId": "665052b5-96fc-4364-8e4e-1550ee9e2a35"
      },
      "execution_count": 7,
      "outputs": [
        {
          "output_type": "stream",
          "name": "stdout",
          "text": [
            "Digite a quantidade de páginas do livro: 250\n",
            "Digite o tempo diário disponível para leitura (em minutos): 50\n",
            "Digite a velocidade média de leitura (páginas por minuto): 3\n",
            "Você levará 15.00 dias para terminar o livro.\n",
            "Cronograma diário:\n",
            "Dia 1: 16.666666666666668 páginas\n",
            "Dia 2: 16.666666666666668 páginas\n",
            "Dia 3: 16.666666666666668 páginas\n",
            "Dia 4: 16.666666666666668 páginas\n",
            "Dia 5: 16.666666666666668 páginas\n",
            "Dia 6: 16.666666666666668 páginas\n",
            "Dia 7: 16.666666666666668 páginas\n",
            "Dia 8: 16.666666666666668 páginas\n",
            "Dia 9: 16.666666666666668 páginas\n",
            "Dia 10: 16.666666666666668 páginas\n",
            "Dia 11: 16.666666666666668 páginas\n",
            "Dia 12: 16.666666666666668 páginas\n",
            "Dia 13: 16.666666666666668 páginas\n",
            "Dia 14: 16.666666666666668 páginas\n"
          ]
        }
      ]
    },
    {
      "cell_type": "code",
      "source": [
        "#11 Desenvolva um algoritmo que simule o tempo de espera em uma fila de atendimento. O usuário informa o número de pessoas na frente e o tempo médio de atendimento por pessoa. O programa deve exibir o tempo total estimado de espera em horas e minutos e indicar se é melhor voltar depois.\n",
        "def tempo_espera():\n",
        "    pessoas_na_frente = int(input(\"Digite o número de pessoas na frente: \"))\n",
        "    tempo_medio_atendimento = int(input(\"Digite o tempo médio de atendimento por pessoa (em minutos): \"))\n",
        "    tempo_total_espera = pessoas_na_frente * tempo_medio_atendimento\n",
        "    horas = tempo_total_espera // 60\n",
        "    minutos = tempo_total_espera % 60\n",
        "    print(f\"Tempo total de espera: {horas} horas e {minutos} minutos.\")\n",
        "    if horas > 0:\n",
        "        print(\"É melhor voltar depois.\")\n",
        "    else:\n",
        "        print(\"É melhor esperar.\")\n",
        "tempo_espera()"
      ],
      "metadata": {
        "colab": {
          "base_uri": "https://localhost:8080/"
        },
        "id": "opctR-r6NvTg",
        "outputId": "a2496bde-4fa3-4727-ec43-1c8edd2f3a58"
      },
      "execution_count": 8,
      "outputs": [
        {
          "output_type": "stream",
          "name": "stdout",
          "text": [
            "Digite o número de pessoas na frente: 5\n",
            "Digite o tempo médio de atendimento por pessoa (em minutos): 1\n",
            "Tempo total de espera: 0 horas e 5 minutos.\n",
            "É melhor esperar.\n"
          ]
        }
      ]
    },
    {
      "cell_type": "code",
      "source": [
        "#12 Elabore um algoritmo que ajude no controle de validade de alimentos. O usuário informa a data de fabricação e a validade (em dias). O programa calcula quantos dias faltam para vencer e emite alertas em cores (texto) se estiver perto de vencer (menos de 5 dias) ou já vencido.\n",
        "import datetime\n",
        "def controle_validade():\n",
        "    data_fabricacao = input(\"Digite a data de fabricação do alimento (dd/mm/aaaa): \")\n",
        "    validade = int(input(\"Digite a validade do alimento (em dias): \"))\n",
        "    data_fabricacao = data_fabricacao.split(\"/\")\n",
        "    ano = int(data_fabricacao[2])\n",
        "    mes = int(data_fabricacao[1])\n",
        "    dia = int(data_fabricacao[0])\n",
        "    data_atual = datetime.date.today()\n",
        "    data_validade = datetime.date(ano, mes, dia) + datetime.timedelta(days=validade)\n",
        "    dias_restantes = (data_validade - data_atual).days\n",
        "    if dias_restantes <= 5:\n",
        "        print(\"Alerta: alimento perto de vencer.\")\n",
        "    elif dias_restantes <= 0:\n",
        "        print(\"Alerta: alimento já vencido.\")\n",
        "        print(f\"Dias restantes para vencer: {dias_restantes}\")\n",
        "controle_validade()"
      ],
      "metadata": {
        "colab": {
          "base_uri": "https://localhost:8080/"
        },
        "id": "a4C2NeoGNyTa",
        "outputId": "e732029b-42d1-4751-f089-c217a63a5638"
      },
      "execution_count": 10,
      "outputs": [
        {
          "output_type": "stream",
          "name": "stdout",
          "text": [
            "Digite a data de fabricação do alimento (dd/mm/aaaa): 10/09/2023\n",
            "Digite a validade do alimento (em dias): 60\n",
            "Alerta: alimento perto de vencer.\n"
          ]
        }
      ]
    },
    {
      "cell_type": "code",
      "source": [
        "#13 Crie um algoritmo que receba a data atual e a data de um evento (em qualquer ano) e informe quantos dias faltam. O programa deve considerar se o evento está no mesmo ano, em um ano futuro ou se já passou.\n",
        "def dias_restantes():\n",
        "    data_atual = input(\"Digite a data atual (dd/mm/aaaa): \")\n",
        "    data_evento = input(\"Digite a data do evento (dd/mm/aaaa): \")\n",
        "    data_atual = data_atual.split(\"/\")\n",
        "    ano_atual = int(data_atual[2])\n",
        "    mes_atual = int(data_atual[1])\n",
        "    dia_atual = int(data_atual[0])\n",
        "    data_evento = data_evento.split(\"/\")\n",
        "    ano_evento = int(data_evento[2])\n",
        "    mes_evento = int(data_evento[1])\n",
        "    dia_evento = int(data_evento[0])\n",
        "    data_atual = datetime.date(ano_atual, mes_atual, dia_atual)\n",
        "    data_evento = datetime.date(ano_evento, mes_evento, dia_evento)\n",
        "    dias_restantes = (data_evento - data_atual).days\n",
        "    if dias_restantes > 0:\n",
        "        print(f\"Faltam {dias_restantes} dias para o evento.\")\n",
        "    elif dias_restantes < 0:\n",
        "        print(\"O evento já passou.\")\n",
        "        print(f\"Dias passados: {-dias_restantes}\")\n",
        "dias_restantes()"
      ],
      "metadata": {
        "colab": {
          "base_uri": "https://localhost:8080/"
        },
        "id": "QwqIkI1PN0pV",
        "outputId": "ac3a7e0a-e1af-4741-cbb8-6f621127a823"
      },
      "execution_count": 11,
      "outputs": [
        {
          "output_type": "stream",
          "name": "stdout",
          "text": [
            "Digite a data atual (dd/mm/aaaa): 07/05/2025\n",
            "Digite a data do evento (dd/mm/aaaa): 07/07/2025\n",
            "Faltam 61 dias para o evento.\n"
          ]
        }
      ]
    },
    {
      "cell_type": "code",
      "source": [
        "#14 Desenvolva um algoritmo que ajude a controlar o tempo de tela de crianças. O usuário deve informar a idade da criança e o tempo de uso de dispositivos eletrônicos. Com base na recomendação da OMS para cada faixa etária, diga se o uso está adequado ou exagerado.\n",
        "def tempo_tela_criancas():\n",
        "    idade = int(input(\"Digite a idade da criança: \"))\n",
        "    tempo_uso = int(input(\"Digite o tempo de uso de dispositivos eletrônicos (em horas): \"))\n",
        "    if idade < 3:\n",
        "        if tempo_uso < 1:\n",
        "            print(\"O uso está adequado.\")\n",
        "        else:\n",
        "            print(\"O uso está exagerado.\")\n",
        "            print(f\"Tempo de uso: {tempo_uso} horas\")\n",
        "            print(\"Recomendação: Use menos dispositivos eletrônicos.\")\n",
        "tempo_tela_criancas()\n"
      ],
      "metadata": {
        "colab": {
          "base_uri": "https://localhost:8080/"
        },
        "id": "OaKB79IpN1ZQ",
        "outputId": "e0e7828c-f764-4977-d951-5460fd224f3c"
      },
      "execution_count": 12,
      "outputs": [
        {
          "name": "stdout",
          "output_type": "stream",
          "text": [
            "Digite a idade da criança: 3\n",
            "Digite o tempo de uso de dispositivos eletrônicos (em horas): 2\n"
          ]
        }
      ]
    },
    {
      "cell_type": "code",
      "source": [
        "#15 Elabore um algoritmo que calcule o tempo exato de um voo com escalas. O usuário informa o horário de saída, o tempo de voo e o tempo total de espera em escalas. O sistema deve calcular o horário final de chegada e a duração total da viagem.\n",
        "def tempo_voo():\n",
        "    horario_saida = input(\"Digite o horário de saída (hh:mm): \")\n",
        "    tempo_voo = int(input(\"Digite o tempo de voo (em minutos): \"))\n",
        "    tempo_espera = int(input(\"Digite o tempo total de espera em escalas (em minutos): \"))\n",
        "    horario_saida = horario_saida.split(\":\")\n",
        "    hora_saida = int(horario_saida[0])\n",
        "    minuto_saida = int(horario_saida[1])\n",
        "    minutos_total = hora_saida * 60 + minuto_saida\n",
        "    minutos_total += tempo_voo + tempo_espera\n",
        "    hora_chegada = minutos_total // 60\n",
        "    minuto_chegada = minutos_total % 60\n",
        "    if hora_chegada > 23:\n",
        "        hora_chegada -= 24\n",
        "    print(f\"Horário de chegada: {hora_chegada}:{minuto_chegada}\")\n",
        "tempo_voo()"
      ],
      "metadata": {
        "colab": {
          "base_uri": "https://localhost:8080/"
        },
        "id": "zkIdRg-8N3fn",
        "outputId": "c401c971-6058-4c5c-a3ff-8a44b9b0ef80"
      },
      "execution_count": 13,
      "outputs": [
        {
          "output_type": "stream",
          "name": "stdout",
          "text": [
            "Digite o horário de saída (hh:mm): 13:30\n",
            "Digite o tempo de voo (em minutos): 50\n",
            "Digite o tempo total de espera em escalas (em minutos): 40\n",
            "Horário de chegada: 15:0\n"
          ]
        }
      ]
    },
    {
      "cell_type": "code",
      "source": [
        "#16 Crie um algoritmo que calcule a economia gerada por um desconto progressivo. O usuário informa o valor de uma compra e o sistema aplica descontos por faixa: até R$100 (5%), até R$200 (10%), acima disso (15%). Exiba o valor com desconto e a economia obtida.\n",
        "valor_compra = float(input(\"Informe o valor da compra: R$ \"))\n",
        "desconto_total = 0.0\n",
        "valor_com_desconto = 0.0\n",
        "economia = 0.0\n",
        "if valor_compra <= 100:\n",
        "    desconto = valor_compra * 0.05\n",
        "    valor_com_desconto = valor_compra - desconto\n",
        "    economia = desconto\n",
        "elif valor_compra <= 200:\n",
        "    desconto_faixa1 = 100 * 0.05\n",
        "    valor_excedente = valor_compra - 100\n",
        "    desconto_faixa2 = valor_excedente * 0.10\n",
        "    desconto_total = desconto_faixa1 + desconto_faixa2\n",
        "    valor_com_desconto = valor_compra - desconto_total\n",
        "    economia = desconto_total\n",
        "else:\n",
        "    desconto_faixa1 = 100 * 0.05\n",
        "    desconto_faixa2 = 100 * 0.10\n",
        "    valor_excedente = valor_compra - 200\n",
        "    desconto_faixa3 = valor_excedente * 0.15\n",
        "    desconto_total = desconto_faixa1 + desconto_faixa2 + desconto_faixa3\n",
        "    valor_com_desconto = valor_compra - desconto_total\n",
        "    economia = desconto_total\n",
        "print(f\"\\nValor original da compra: R$ {valor_compra:.2f}\")\n",
        "print(f\"Valor com desconto: R$ {valor_com_desconto:.2f}\")\n",
        "print(f\"Economia obtida: R$ {economia:.2f}\")"
      ],
      "metadata": {
        "colab": {
          "base_uri": "https://localhost:8080/"
        },
        "id": "r0jw0IJnN6jG",
        "outputId": "17cd9dff-c0c5-4ee7-e1c9-3a7d575943fd"
      },
      "execution_count": 14,
      "outputs": [
        {
          "output_type": "stream",
          "name": "stdout",
          "text": [
            "Informe o valor da compra: R$ 200\n",
            "\n",
            "Valor original da compra: R$ 200.00\n",
            "Valor com desconto: R$ 185.00\n",
            "Economia obtida: R$ 15.00\n"
          ]
        }
      ]
    },
    {
      "cell_type": "code",
      "source": [
        "#17 Elabore um algoritmo que simule a passagem de anos em um relógio biológico. O usuário informa a idade e o tempo (em anos) em que pretende manter hábitos saudáveis. O sistema deve estimar, com base em dados simulados, quanto de expectativa de vida ele “ganharia” a mais, usando faixas de ganho por período.\n",
        "def calcular_ganho_vida(idade, anos_habitos):\n",
        "    anos_restantes = idade + anos_habitos\n",
        "    faixas_ganho = {\n",
        "        (0, 5): 0.5,\n",
        "        (6, 10): 1.0,\n",
        "        (11, 15): 1.5,\n",
        "        (16, 20): 2.0,\n",
        "        (21, 99): 2.5\n",
        "    }\n",
        "    ganho_total = 0.0\n",
        "    anos_restantes = anos_habitos\n",
        "    while anos_restantes > 0:\n",
        "        for faixa, ganho in faixas_ganho.items():\n",
        "            inicio, fim = faixa\n",
        "            duracao_faixa = fim - inicio + 1\n",
        "            if anos_restantes <= duracao_faixa:\n",
        "                ganho_total += ganho * anos_restantes\n",
        "                anos_restantes = 0\n",
        "                break\n",
        "            else:\n",
        "                ganho_total += ganho * duracao_faixa\n",
        "                anos_restantes -= duracao_faixa\n",
        "\n",
        "    return ganho_total\n",
        "try:\n",
        "    idade = int(input(\"Digite sua idade atual: \"))\n",
        "    tempo_habitos = int(input(\"Por quanto tempo (em anos) pretende manter hábitos saudáveis? \"))\n",
        "except ValueError:\n",
        "    print(\"Por favor, insira números inteiros válidos.\")\n",
        "    exit()\n",
        "ganho_vida = calcular_ganho_vida(idade, tempo_habitos)\n",
        "expectativa_vida_base = 80\n",
        "nova_expectativa = expectativa_vida_base + ganho_vida\n",
        "\n",
        "print(f\"Estima-se que, mantendo hábitos saudáveis por {tempo_habitos} anos,\")\n",
        "print(f\"você pode ganhar aproximadamente {ganho_vida:.1f} anos de expectativa de vida extra.\")\n",
        "print(f\"Sua expectativa de vida estimada, considerando a média de 80 anos, é de aproximadamente {nova_expectativa:.1f} anos.\")\n",
        "\n",
        "\n"
      ],
      "metadata": {
        "colab": {
          "base_uri": "https://localhost:8080/"
        },
        "id": "V_VesTfRQIj8",
        "outputId": "e6b18922-1bf3-4cdf-852e-6cdce2505936"
      },
      "execution_count": 15,
      "outputs": [
        {
          "output_type": "stream",
          "name": "stdout",
          "text": [
            "Digite sua idade atual: 22\n",
            "Por quanto tempo (em anos) pretende manter hábitos saudáveis? 50\n",
            "Estima-se que, mantendo hábitos saudáveis por 50 anos,\n",
            "você pode ganhar aproximadamente 98.0 anos de expectativa de vida extra.\n",
            "Sua expectativa de vida estimada, considerando a média de 80 anos, é de aproximadamente 178.0 anos.\n"
          ]
        }
      ]
    },
    {
      "cell_type": "code",
      "source": [
        "#18 Crie um algoritmo que simule o horário ideal de sono. O usuário informa a hora em que precisa acordar e o sistema sugere três horários para dormir com base em ciclos de 90 minutos (recomendação médica).\n",
        "def calcular_horario_sono(hora_acordar):\n",
        "    try:\n",
        "        horas, minutos = map(int, hora_acordar.split(':'))\n",
        "        if not (0 <= horas <= 23 and 0 <= minutos <= 59):\n",
        "            raise ValueError\n",
        "    except ValueError:\n",
        "        return \"Formato de hora inválido. Use HH:MM (24 horas).\"\n",
        "\n",
        "    minutos_acordar = horas * 60 + minutos\n",
        "    horarios_ideais = []\n",
        "    for i in range(1, 4):\n",
        "        minutos_sono = minutos_acordar - i * 90\n",
        "        if minutos_sono < 0:\n",
        "            minutos_sono += 24 * 60\n",
        "\n",
        "        horas_sono = minutos_sono // 60\n",
        "        minutos_sono = minutos_sono % 60\n",
        "        horarios_ideais.append(f\"{horas_sono:02d}:{minutos_sono:02d}\")\n",
        "\n",
        "    return horarios_ideais\n",
        "\n",
        "hora_acordar = input(\"Digite a hora em que você precisa acordar (formato HH:MM): \")\n",
        "sugestoes = calcular_horario_sono(hora_acordar)\n",
        "\n",
        "if isinstance(sugestoes, list):\n",
        "    print(\"Horários ideais para dormir:\")\n",
        "    for i, horario in enumerate(sugestoes):\n",
        "        print(f\"{i+1}. {horario}\")"
      ],
      "metadata": {
        "colab": {
          "base_uri": "https://localhost:8080/"
        },
        "id": "hGlFyqGmQSEu",
        "outputId": "c11846d5-0a38-4a42-fe52-cf98193b778e"
      },
      "execution_count": 16,
      "outputs": [
        {
          "output_type": "stream",
          "name": "stdout",
          "text": [
            "Digite a hora em que você precisa acordar (formato HH:MM): 8:00\n",
            "Horários ideais para dormir:\n",
            "1. 06:30\n",
            "2. 05:00\n",
            "3. 03:30\n"
          ]
        }
      ]
    },
    {
      "cell_type": "code",
      "source": [
        "#19 Desenvolva um algoritmo que simule uma caminhada virtual. O usuário informa quantos passos dá por minuto e quanto tempo caminhou. O programa calcula quantos quilômetros percorreu, sabendo que 1.300 passos equivalem a 1 km, e fornece uma estimativa de calorias gastas.\n",
        "passos_por_minuto = int(input(\"Quantos passos você dá por minuto? \"))\n",
        "tempo_caminhada_minutos = int(input(\"Por quantos minutos você caminhou? \"))\n",
        "\n",
        "passos_totais = passos_por_minuto * tempo_caminhada_minutos\n",
        "quilometros = passos_totais / 1300\n",
        "calorias_gastas = passos_totais * 0.04\n",
        "\n",
        "print(f\"\\nVocê caminhou aproximadamente {quilometros:.2f} quilômetros.\")\n",
        "print(f\"Estimativa de calorias gastas: {calorias_gastas:.2f} calorias.\")\n",
        ""
      ],
      "metadata": {
        "colab": {
          "base_uri": "https://localhost:8080/"
        },
        "id": "YvnIrrsPQaw-",
        "outputId": "75cca9d9-af83-4f04-a674-6d5e452fed0d"
      },
      "execution_count": 17,
      "outputs": [
        {
          "output_type": "stream",
          "name": "stdout",
          "text": [
            "Quantos passos você dá por minuto? 30\n",
            "Por quantos minutos você caminhou? 30\n",
            "\n",
            "Você caminhou aproximadamente 0.69 quilômetros.\n",
            "Estimativa de calorias gastas: 36.00 calorias.\n"
          ]
        }
      ]
    },
    {
      "cell_type": "code",
      "source": [
        "#20 Elabore um algoritmo que leia a data e hora atual e informe em quanto tempo (em horas e minutos) acontecerá o pôr do sol, considerando que ele ocorrerá às 18h. Se o horário atual for após esse horário, exiba que o sol já se pôs.\n",
        "import pytz\n",
        "import datetime\n",
        "fuso_horario = pytz.timezone(\"America/Sao_Paulo\")\n",
        "horario_atual = datetime.datetime.now(fuso_horario)\n",
        "por_do_sol =horario_atual . replace(hour=18, minute=0, second=0)\n",
        "if horario_atual > por_do_sol:\n",
        "        print(\"O sol já se pôs.\")\n",
        "else:\n",
        "        diferenca = por_do_sol - horario_atual\n",
        "        horas = diferenca.seconds // 3600\n",
        "        minutos = (diferenca.seconds % 3600) // 60\n",
        "        print(f\"Faltam {horas} horas e {minutos} minutos para o pôr do sol.\")\n"
      ],
      "metadata": {
        "colab": {
          "base_uri": "https://localhost:8080/"
        },
        "id": "cGpAGF_gQbnf",
        "outputId": "792245ab-9381-459f-d8c3-fe3e5e760325"
      },
      "execution_count": 18,
      "outputs": [
        {
          "output_type": "stream",
          "name": "stdout",
          "text": [
            "Faltam 7 horas e 20 minutos para o pôr do sol.\n"
          ]
        }
      ]
    },
    {
      "cell_type": "code",
      "source": [
        "#21 Crie um algoritmo que simule o tempo de preparo de uma refeição. O usuário escolhe 3 pratos (entrada, principal, sobremesa), cada um com seu tempo de preparo. O sistema informa o tempo total e sugere uma ordem de preparo para otimizar o tempo, se possível.\n",
        "entrada = input(\"Digite a entrada que deseja: \")\n",
        "principal = input(\"Digite o prato principal que deseja: \")\n",
        "sobremesa = input(\"Digite a sobremesa que deseja: \")\n",
        "tempo_de_preparo_entrada = int(input(f\"Digite o tempo de preparo do {entrada} em minutos: \"))\n",
        "tempo_de_preparo_principal = int(input(f\"Digite o tempo de preparo do {principal} em minutos: \"))\n",
        "tempo_de_preparo_sobremesa = int(input(f\"Digite o tempo de preparo da {sobremesa} em minutos: \"))\n",
        "tempo_total = tempo_de_preparo_entrada + tempo_de_preparo_principal + tempo_de_preparo_sobremesa\n",
        "print(f\"Tempo total de preparo: {tempo_total} minutos\")"
      ],
      "metadata": {
        "colab": {
          "base_uri": "https://localhost:8080/"
        },
        "id": "Yr1p-6IaQdx0",
        "outputId": "a499e075-ab38-4b5c-f972-139b53ae29d5"
      },
      "execution_count": 19,
      "outputs": [
        {
          "output_type": "stream",
          "name": "stdout",
          "text": [
            "Digite a entrada que deseja: 07:00\n",
            "Digite o prato principal que deseja: lasanha\n",
            "Digite a sobremesa que deseja: sorvete\n",
            "Digite o tempo de preparo do 07:00 em minutos: 50\n",
            "Digite o tempo de preparo do lasanha em minutos: 40\n",
            "Digite o tempo de preparo da sorvete em minutos: 30\n",
            "Tempo total de preparo: 120 minutos\n"
          ]
        }
      ]
    },
    {
      "cell_type": "code",
      "source": [
        "#22 Elabore um algoritmo que ajude um motorista a planejar uma viagem de ida e volta. Receba a distância (em km), o tempo de parada previsto na cidade de destino e a velocidade média. Calcule o tempo total da jornada e o tempo disponível para descanso antes do retorno.\n",
        "def planejar_viagem(distancia, tempo_parada, velocidade_media):\n",
        "    tempo_ida = distancia / velocidade_media\n",
        "    tempo_volta = distancia / velocidade_media\n",
        "    tempo_total = tempo_ida + tempo_volta + tempo_parada\n",
        "    tempo_descanso = tempo_parada\n",
        "\n",
        "    return tempo_total, tempo_descanso\n",
        "distancia = float(input(\"Informe a distância da viagem (em km): \"))\n",
        "tempo_parada = float(input(\"Informe o tempo de parada na cidade de destino (em horas): \"))\n",
        "velocidade_media = float(input(\"Informe a velocidade média esperada (em km/h): \"))\n",
        "\n",
        "tempo_total, tempo_descanso = planejar_viagem(distancia, tempo_parada, velocidade_media)\n",
        "\n",
        "print(f\"\\nTempo total da viagem (ida e volta): {tempo_total:.2f} horas\")\n",
        "print(f\"Tempo disponível para descanso antes do retorno: {tempo_descanso:.2f} horas\")\n"
      ],
      "metadata": {
        "colab": {
          "base_uri": "https://localhost:8080/"
        },
        "id": "d7QNryEsQhqk",
        "outputId": "e0f40b0e-e914-457a-8d30-e744c5ead99a"
      },
      "execution_count": 20,
      "outputs": [
        {
          "output_type": "stream",
          "name": "stdout",
          "text": [
            "Informe a distância da viagem (em km): 250\n",
            "Informe o tempo de parada na cidade de destino (em horas): 5\n",
            "Informe a velocidade média esperada (em km/h): 100\n",
            "\n",
            "Tempo total da viagem (ida e volta): 10.00 horas\n",
            "Tempo disponível para descanso antes do retorno: 5.00 horas\n"
          ]
        }
      ]
    },
    {
      "cell_type": "code",
      "source": [
        "#23 Desenvolva um algoritmo que calcule quantos segundos faltam para o ano novo, recebendo a data e hora atual. O sistema deve considerar se o ano é bissexto ou não.\n",
        "import pytz\n",
        "import datetime\n",
        "\n",
        "def calcular_segundos_ano_novo():\n",
        "    agora = datetime.datetime.now()\n",
        "    fuso_horario = pytz.timezone(\"America/Sao_Paulo\")\n",
        "    agora = agora.astimezone(fuso_horario)\n",
        "    proximo_ano = agora.year + 1\n",
        "    ano_novo = datetime.datetime(proximo_ano, 1, 1, 0, 0, 0, tzinfo=fuso_horario)\n",
        "    diferenca = ano_novo - agora\n",
        "    segundos = diferenca.total_seconds()\n",
        "    return int(segundos)\n",
        "\n",
        "segundos_restantes = calcular_segundos_ano_novo()\n",
        "print(f\"Faltam {segundos_restantes} segundos para o Ano Novo.\")"
      ],
      "metadata": {
        "colab": {
          "base_uri": "https://localhost:8080/"
        },
        "id": "Bntj9upMQj-G",
        "outputId": "2566aa50-0261-4bb2-c5a3-49206e94b30e"
      },
      "execution_count": 21,
      "outputs": [
        {
          "output_type": "stream",
          "name": "stdout",
          "text": [
            "Faltam 20438649 segundos para o Ano Novo.\n"
          ]
        }
      ]
    },
    {
      "cell_type": "code",
      "source": [
        "#24 Crie um algoritmo que simule a leitura de um termômetro inteligente. O usuário informa temperaturas de manhã, tarde e noite por 5 dias. O sistema deve exibir a maior e menor temperatura da semana, a média geral e se houve risco de insolação (temperaturas acima de 35ºC em dois períodos do mesmo dia).\n",
        "temperaturas = []\n",
        "for dia in range(5):\n",
        "  print(f\"\\nDia {dia + 1}:\")\n",
        "  manhã = float(input(\"Temperatura da manhã: \"))\n",
        "  tarde = float(input(\"Temperatura da tarde: \"))\n",
        "  noite = float(input(\"Temperatura da noite: \"))\n",
        "  38\n",
        "  temperaturas.extend([manhã, tarde, noite])\n",
        "\n",
        "maior_temp = max(temperaturas)\n",
        "menor_temp = min(temperaturas)\n",
        "media_temp = sum(temperaturas) / len(temperaturas)\n",
        "\n",
        "risco_insolacao = False\n",
        "for dia in range(5):\n",
        "  inicio_dia = dia * 3\n",
        "  if temperaturas[inicio_dia] > 35 and temperaturas[inicio_dia + 1] > 35:\n",
        "            risco_insolacao = True\n",
        "            break\n",
        "            if temperaturas[inicio_dia] > 35 and temperaturas[inicio_dia + 2] > 35:\n",
        "              risco_insolacao = True\n",
        "            break\n",
        "            if temperaturas[inicio_dia+1] > 35 and temperaturas[inicio_dia + 2] > 35:\n",
        "              risco_insolacao = True\n",
        "            break\n",
        "print(f\"Maior temperatura da semana: {maior_temp}°C\")\n",
        "print(f\"Menor temperatura da semana: {menor_temp}°C\")\n",
        "print(f\"Média das temperaturas da semana: {media_temp:.2f}°C\")\n",
        "if risco_insolacao:\n",
        "  print(\"Houve risco de insolação.\")\n",
        "else:\n",
        "  print(\"Não houve risco de insolação.\")\n"
      ],
      "metadata": {
        "colab": {
          "base_uri": "https://localhost:8080/"
        },
        "id": "JUmUhT0SQprS",
        "outputId": "64d0b230-82f8-4a92-f2d4-f0130cf39d56"
      },
      "execution_count": 22,
      "outputs": [
        {
          "output_type": "stream",
          "name": "stdout",
          "text": [
            "\n",
            "Dia 1:\n",
            "Temperatura da manhã: 23\n",
            "Temperatura da tarde: 30\n",
            "Temperatura da noite: 22\n",
            "\n",
            "Dia 2:\n",
            "Temperatura da manhã: 25\n",
            "Temperatura da tarde: 32\n",
            "Temperatura da noite: 23\n",
            "\n",
            "Dia 3:\n",
            "Temperatura da manhã: 21\n",
            "Temperatura da tarde: 29\n",
            "Temperatura da noite: 23\n",
            "\n",
            "Dia 4:\n",
            "Temperatura da manhã: 19\n",
            "Temperatura da tarde: 27\n",
            "Temperatura da noite: 22\n",
            "\n",
            "Dia 5:\n",
            "Temperatura da manhã: 19\n",
            "Temperatura da tarde: 22\n",
            "Temperatura da noite: 20\n",
            "Maior temperatura da semana: 32.0°C\n",
            "Menor temperatura da semana: 19.0°C\n",
            "Média das temperaturas da semana: 23.80°C\n",
            "Não houve risco de insolação.\n"
          ]
        }
      ]
    },
    {
      "cell_type": "code",
      "source": [
        "#25 Elabore um algoritmo que simule o deslocamento de um ciclista. O usuário informa a velocidade média (em km/h) e a duração da pedalada em dias diferentes. O programa calcula a distância total percorrida e destaca o dia de maior rendimento.\n",
        "dias = int(input(\"Informe a quantidade de dias de pedalada: \"))\n",
        "velocidades = []\n",
        "duracoes = []\n",
        "for i in range(dias):\n",
        "        velocidade = float(input(f\"Informe a velocidade média no dia {i+1} (em km/h): \"))\n",
        "        duracao = float(input(f\"Informe a duração da pedalada no dia {i+1} (em horas): \"))\n",
        "        velocidades.append(velocidade)\n",
        "        duracoes.append(duracao)\n",
        "distancias = [velocidade * duracao for velocidade, duracao in zip(velocidades, duracoes)]\n",
        "distancia_total = sum(distancias)\n",
        "dia_maior_rendimento = distancias.index(max(distancias)) + 1\n",
        "print(f\"A distância total percorrida foi de {distancia_total:.2f} km.\")\n",
        "print(f\"O dia de maior rendimento foi o dia {dia_maior_rendimento}, com {max(distancias):.2f} km percorridos.\")"
      ],
      "metadata": {
        "colab": {
          "base_uri": "https://localhost:8080/"
        },
        "id": "Zqe25JF6QsDK",
        "outputId": "4b3667ae-870e-4845-a922-945c07090c98"
      },
      "execution_count": 23,
      "outputs": [
        {
          "output_type": "stream",
          "name": "stdout",
          "text": [
            "Informe a quantidade de dias de pedalada: 2\n",
            "Informe a velocidade média no dia 1 (em km/h): 30\n",
            "Informe a duração da pedalada no dia 1 (em horas): 16\n",
            "Informe a velocidade média no dia 2 (em km/h): 25\n",
            "Informe a duração da pedalada no dia 2 (em horas): 14\n",
            "A distância total percorrida foi de 830.00 km.\n",
            "O dia de maior rendimento foi o dia 1, com 480.00 km percorridos.\n"
          ]
        }
      ]
    },
    {
      "cell_type": "code",
      "source": [
        "#26 Crie um algoritmo que simule o registro de tempo de uso de energia por aparelhos domésticos. Para três aparelhos, o usuário informa a potência (em watts) e o tempo de uso diário (em horas). O sistema deve calcular o consumo mensal (em kWh) de cada aparelho e o total da residência.\n",
        "aparelhos = []\n",
        "for i in range(3):\n",
        "  potencia = float(input(f\"Informe a potência do aparelho {i+1} (em watts): \"))\n",
        "  tempo_uso_diario = float(input(f\"Informe o tempo de uso diário do aparelho {i+1} (em horas): \"))\n",
        "  aparelhos.append((potencia, tempo_uso_diario))\n",
        "\n",
        "consumo_mensal_total = 0\n",
        "for i, (potencia, tempo_uso_diario) in enumerate(aparelhos):\n",
        "  consumo_diario_kWh = (potencia / 1000) * tempo_uso_diario\n",
        "  consumo_mensal_kWh = consumo_diario_kWh * 30\n",
        "  consumo_mensal_total += consumo_mensal_kWh\n",
        "  print(f\"Consumo mensal do aparelho {i+1}: {consumo_mensal_kWh:.2f} kWh\")\n",
        "\n",
        "print(f\"Consumo mensal total da residência: {consumo_mensal_total:.2f} kWh\")"
      ],
      "metadata": {
        "colab": {
          "base_uri": "https://localhost:8080/"
        },
        "id": "V7dOcl22QuTO",
        "outputId": "a62fe976-af55-4be3-84eb-56f4817d3e3f"
      },
      "execution_count": 24,
      "outputs": [
        {
          "output_type": "stream",
          "name": "stdout",
          "text": [
            "Informe a potência do aparelho 1 (em watts): 1000\n",
            "Informe o tempo de uso diário do aparelho 1 (em horas): 7\n",
            "Informe a potência do aparelho 2 (em watts): 900\n",
            "Informe o tempo de uso diário do aparelho 2 (em horas): 5\n",
            "Informe a potência do aparelho 3 (em watts): 1200\n",
            "Informe o tempo de uso diário do aparelho 3 (em horas): 8\n",
            "Consumo mensal do aparelho 1: 210.00 kWh\n",
            "Consumo mensal do aparelho 2: 135.00 kWh\n",
            "Consumo mensal do aparelho 3: 288.00 kWh\n",
            "Consumo mensal total da residência: 633.00 kWh\n"
          ]
        }
      ]
    },
    {
      "cell_type": "code",
      "source": [
        "#27 Desenvolva um algoritmo que receba a hora e minuto em que um paciente tomou um remédio e calcule os próximos 3 horários ideais para as próximas doses, considerando que o medicamento deve ser tomado a cada 8 horas.\n",
        "import datetime\n",
        "\n",
        "def calcular_proximos_horarios(hora, minuto):\n",
        "    horario_atual = datetime.datetime.now().replace(hour=hora, minute=minuto, second=0, microsecond=0)\n",
        "    proximos_horarios = []\n",
        "    for i in range(1, 4):\n",
        "        proximo_horario = horario_atual + datetime.timedelta(hours=8 * i)\n",
        "        proximos_horarios.append(proximo_horario.strftime(\"%H:%M\"))\n",
        "    return proximos_horarios\n",
        "\n",
        "hora_inicial = int(input(\"Digite a hora em que o remédio foi tomado: \"))\n",
        "minuto_inicial = int(input(\"Digite o minuto em que o remédio foi tomado: \"))\n",
        "\n",
        "proximos_horarios = calcular_proximos_horarios(hora_inicial, minuto_inicial)\n",
        "\n",
        "print(\"Os próximos 3 horários para tomar o remédio são:\")\n",
        "for horario in proximos_horarios:\n",
        "    print(horario)"
      ],
      "metadata": {
        "colab": {
          "base_uri": "https://localhost:8080/"
        },
        "id": "RdtqekgRQwQp",
        "outputId": "3fa2bf8f-b021-468d-b67c-bd12108b8983"
      },
      "execution_count": 26,
      "outputs": [
        {
          "output_type": "stream",
          "name": "stdout",
          "text": [
            "Digite a hora em que o remédio foi tomado: 8\n",
            "Digite o minuto em que o remédio foi tomado: 30\n",
            "Os próximos 3 horários para tomar o remédio são:\n",
            "16:30\n",
            "00:30\n",
            "08:30\n"
          ]
        }
      ]
    },
    {
      "cell_type": "code",
      "source": [
        "#28 Elabore um algoritmo que receba a hora atual e diga quanto tempo falta para o início de um filme, que sempre começa às 20h em ponto. Se já passou desse horário, informe quanto tempo de filme a pessoa perdeu, assumindo que o filme tem 2h de duração.\n",
        "import pytz\n",
        "import datetime\n",
        "\n",
        "fuso_horario = pytz.timezone(\"America/Sao_Paulo\")\n",
        "horario_atual = datetime.datetime.now(fuso_horario)\n",
        "inicio_filme = horario_atual.replace(hour=20, minute=0, second=0)\n",
        "\n",
        "tempo_perdido_horas = 0\n",
        "tempo_perdido_minutos = 0\n",
        "if horario_atual < inicio_filme:\n",
        "  diferenca = inicio_filme - horario_atual\n",
        "  horas = diferenca.seconds // 3600\n",
        "  minutos = (diferenca.seconds % 3600) // 60\n",
        "  print(f\"Faltam {horas} horas e {minutos} minutos para o início do filme.\")\n",
        "else:\n",
        "  diferenca = horario_atual - inicio_filme\n",
        "  tempo_perdido_horas = diferenca.seconds // 3600\n",
        "  tempo_perdido_minutos = (diferenca.seconds % 3600) // 60\n",
        "\n",
        "if tempo_perdido_horas < 2 :\n",
        "  tempo_filme_restante_horas = 2 - tempo_perdido_horas\n",
        "  tempo_filme_restante_minutos = 60 - tempo_perdido_minutos\n",
        "  print(f\"Você perdeu {tempo_perdido_horas} horas e {tempo_perdido_minutos} minutos de filme.\")\n",
        "  print(f\"Ainda faltam {tempo_filme_restante_horas} horas e {tempo_filme_restante_minutos} minutos de filme.\")\n",
        "else:\n",
        "  print(f\"Você perdeu {tempo_perdido_horas} horas e {tempo_perdido_minutos} minutos de filme.\")\n",
        "  print(f\"O filme já acabou.\")"
      ],
      "metadata": {
        "colab": {
          "base_uri": "https://localhost:8080/"
        },
        "id": "j2O7ahrxQxiV",
        "outputId": "a1da65bf-02bb-4630-8886-385b55bd7a00"
      },
      "execution_count": 27,
      "outputs": [
        {
          "output_type": "stream",
          "name": "stdout",
          "text": [
            "Faltam 9 horas e 13 minutos para o início do filme.\n",
            "Você perdeu 0 horas e 0 minutos de filme.\n",
            "Ainda faltam 2 horas e 60 minutos de filme.\n"
          ]
        }
      ]
    },
    {
      "cell_type": "code",
      "source": [
        "#29 Crie um algoritmo que ajude a calcular o tempo ideal de estudo. O usuário informa o total de horas disponíveis na semana e a quantidade de disciplinas. O sistema calcula quantas horas deve dedicar a cada matéria e alerta se alguma ficar com menos de 1h.\n",
        "def calcular_tempo_estudo(horas_disponiveis, num_disciplinas):\n",
        "    tempo_por_disciplina = horas_disponiveis / num_disciplinas\n",
        "    tempos = {}\n",
        "    alerta = False\n",
        "    for i in range(num_disciplinas):\n",
        "        tempos[f'disciplina_{i+1}'] = tempo_por_disciplina\n",
        "        if tempo_por_disciplina < 1:\n",
        "            alerta = True\n",
        "    return tempos, alerta\n",
        "\n",
        "horas_disponiveis = float(input(\"Digite o total de horas disponíveis na semana para estudo: \"))\n",
        "num_disciplinas = int(input(\"Digite a quantidade de disciplinas: \"))\n",
        "\n",
        "tempos_estudo, alerta = calcular_tempo_estudo(horas_disponiveis, num_disciplinas)\n",
        "\n",
        "for disciplina, tempo in tempos_estudo.items():\n",
        "    print(f\"{disciplina}: {tempo:.2f} horas\")\n",
        "\n",
        "if alerta:\n",
        "    print(\"Alerta: Pelo menos uma disciplina tem menos de 1 hora de estudo.\")"
      ],
      "metadata": {
        "colab": {
          "base_uri": "https://localhost:8080/"
        },
        "id": "JrpvGgvMQ1s8",
        "outputId": "37a8871f-8597-4ae0-b80f-fc8b9a29d9a7"
      },
      "execution_count": 28,
      "outputs": [
        {
          "output_type": "stream",
          "name": "stdout",
          "text": [
            "Digite o total de horas disponíveis na semana para estudo: 12\n",
            "Digite a quantidade de disciplinas: 6\n",
            "disciplina_1: 2.00 horas\n",
            "disciplina_2: 2.00 horas\n",
            "disciplina_3: 2.00 horas\n",
            "disciplina_4: 2.00 horas\n",
            "disciplina_5: 2.00 horas\n",
            "disciplina_6: 2.00 horas\n"
          ]
        }
      ]
    },
    {
      "cell_type": "code",
      "source": [
        "#30 Desenvolva um algoritmo que simule o acompanhamento de produtividade de um trabalhador remoto. Receba o número de tarefas concluídas por dia durante 5 dias e calcule a média. Se a produtividade cair por dois dias consecutivos, o sistema emite um alerta.\n",
        "#30 Desenvolva um algoritmo que simule o acompanhamento de produtividade de um trabalhador remoto. Receba o número de tarefas concluídas por dia durante 5 dias e calcule a média. Se a produtividade cair por dois dias consecutivos, o sistema emite um alerta.\n",
        "tarefas_diarias = []\n",
        "for dia in range(5):\n",
        "  tarefas = int(input(f\"Digite o número de tarefas concluídas no dia {dia + 1}: \"))\n",
        "  tarefas_diarias.append(tarefas)\n",
        "  media_tarefas = sum(tarefas_diarias) / len(tarefas_diarias)\n",
        "  print(f\"\\nA média de tarefas concluídas por dia é: {media_tarefas:.2f}\")\n",
        "  queda_consecutiva = 0\n",
        "for i in range(1, len(tarefas_diarias)):\n",
        "  if tarefas_diarias[i] < tarefas_diarias[i - 1]:\n",
        "    queda_consecutiva += 1\n",
        "    if queda_consecutiva >= 2:\n",
        "      print(\"\\nAlerta: Produtividade caiu por dois dias consecutivos!\")\n",
        "      break\n",
        "else:\n",
        "  queda_consecutiva = 0"
      ],
      "metadata": {
        "colab": {
          "base_uri": "https://localhost:8080/"
        },
        "id": "zIYinF2EQ3__",
        "outputId": "df3a7720-0f0b-4351-f8a9-b1ccc6e19efa"
      },
      "execution_count": 29,
      "outputs": [
        {
          "output_type": "stream",
          "name": "stdout",
          "text": [
            "Digite o número de tarefas concluídas no dia 1: 5\n",
            "\n",
            "A média de tarefas concluídas por dia é: 5.00\n",
            "Digite o número de tarefas concluídas no dia 2: 8\n",
            "\n",
            "A média de tarefas concluídas por dia é: 6.50\n",
            "Digite o número de tarefas concluídas no dia 3: 10\n",
            "\n",
            "A média de tarefas concluídas por dia é: 7.67\n",
            "Digite o número de tarefas concluídas no dia 4: 9\n",
            "\n",
            "A média de tarefas concluídas por dia é: 8.00\n",
            "Digite o número de tarefas concluídas no dia 5: 7\n",
            "\n",
            "A média de tarefas concluídas por dia é: 7.80\n",
            "\n",
            "Alerta: Produtividade caiu por dois dias consecutivos!\n"
          ]
        }
      ]
    }
  ]
}