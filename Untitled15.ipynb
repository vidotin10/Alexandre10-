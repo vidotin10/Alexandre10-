{
  "nbformat": 4,
  "nbformat_minor": 0,
  "metadata": {
    "colab": {
      "provenance": [],
      "authorship_tag": "ABX9TyNhsHGCFepeZz1mYGcYY8WL",
      "include_colab_link": true
    },
    "kernelspec": {
      "name": "python3",
      "display_name": "Python 3"
    },
    "language_info": {
      "name": "python"
    }
  },
  "cells": [
    {
      "cell_type": "markdown",
      "metadata": {
        "id": "view-in-github",
        "colab_type": "text"
      },
      "source": [
        "<a href=\"https://colab.research.google.com/github/vidotin10/Alexandre10-/blob/main/Untitled15.ipynb\" target=\"_parent\"><img src=\"https://colab.research.google.com/assets/colab-badge.svg\" alt=\"Open In Colab\"/></a>"
      ]
    },
    {
      "cell_type": "code",
      "execution_count": 6,
      "metadata": {
        "colab": {
          "base_uri": "https://localhost:8080/"
        },
        "id": "Pr9AfRE6sJWR",
        "outputId": "595a1a6a-c050-4cf7-f7ed-78b243dd4305"
      },
      "outputs": [
        {
          "output_type": "stream",
          "name": "stdout",
          "text": [
            "2025-05-15\n"
          ]
        }
      ],
      "source": [
        "#7\n",
        "from datetime import date\n",
        "ano = date.today()\n",
        "print(ano)\n"
      ]
    },
    {
      "cell_type": "code",
      "source": [
        "#8\n",
        "for numero in range(1,11):\n",
        "    print(numero)\n"
      ],
      "metadata": {
        "colab": {
          "base_uri": "https://localhost:8080/"
        },
        "id": "ilYnb2mc1wkL",
        "outputId": "aae15329-1782-479c-bec4-a0960699fcbf"
      },
      "execution_count": 7,
      "outputs": [
        {
          "output_type": "stream",
          "name": "stdout",
          "text": [
            "1\n",
            "2\n",
            "3\n",
            "4\n",
            "5\n",
            "6\n",
            "7\n",
            "8\n",
            "9\n",
            "10\n"
          ]
        }
      ]
    },
    {
      "cell_type": "code",
      "source": [
        "#9\n",
        "frase = input('Digite uma frase: ')\n",
        "tamanho_frase = len (frase)\n",
        "if tamanho_frase % 2 == 0:\n",
        "    print('O tamanho da frase é par')\n",
        "else:\n",
        "    print('O tamanho da frase é impar')"
      ],
      "metadata": {
        "colab": {
          "base_uri": "https://localhost:8080/"
        },
        "id": "5bX5gqEr16cL",
        "outputId": "9eaea760-f7f0-4a53-fce7-43ec1426f170"
      },
      "execution_count": 8,
      "outputs": [
        {
          "output_type": "stream",
          "name": "stdout",
          "text": [
            "Digite uma frase: paralelepipedo\n",
            "O tamanho da frase é par\n"
          ]
        }
      ]
    },
    {
      "cell_type": "code",
      "source": [
        "#10\n",
        "pote_a = input('Digite o valor do primeiro pote: ')\n",
        "pote_b = input('Digite o valor do segundo pote: ')\n",
        "pote_a = int(pote_a)\n",
        "pote_b = int(pote_b)\n",
        "if pote_a > pote_b:\n",
        "    print('O primeiro pote é maior')\n",
        "else:\n",
        "    print('O segundo pote é maior')"
      ],
      "metadata": {
        "colab": {
          "base_uri": "https://localhost:8080/"
        },
        "id": "4fzVLfy123Xa",
        "outputId": "a1dbc5b6-5bd9-40f0-8974-082c7e2181a7"
      },
      "execution_count": 9,
      "outputs": [
        {
          "output_type": "stream",
          "name": "stdout",
          "text": [
            "Digite o valor do primeiro pote: 2\n",
            "Digite o valor do segundo pote: 5\n",
            "O segundo pote é maior\n"
          ]
        }
      ]
    }
  ]
}