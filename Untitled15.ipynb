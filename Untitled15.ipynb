{
  "nbformat": 4,
  "nbformat_minor": 0,
  "metadata": {
    "colab": {
      "provenance": [],
      "authorship_tag": "ABX9TyNYvmbr+S/jzIT84nJvd1aP",
      "include_colab_link": true
    },
    "kernelspec": {
      "name": "python3",
      "display_name": "Python 3"
    },
    "language_info": {
      "name": "python"
    }
  },
  "cells": [
    {
      "cell_type": "markdown",
      "metadata": {
        "id": "view-in-github",
        "colab_type": "text"
      },
      "source": [
        "<a href=\"https://colab.research.google.com/github/vidotin10/Alexandre10-/blob/main/Untitled15.ipynb\" target=\"_parent\"><img src=\"https://colab.research.google.com/assets/colab-badge.svg\" alt=\"Open In Colab\"/></a>"
      ]
    },
    {
      "cell_type": "code",
      "execution_count": 10,
      "metadata": {
        "colab": {
          "base_uri": "https://localhost:8080/"
        },
        "id": "Pr9AfRE6sJWR",
        "outputId": "332cb529-6373-4efd-de48-46d688ecaef0"
      },
      "outputs": [
        {
          "output_type": "stream",
          "name": "stdout",
          "text": [
            "2025\n"
          ]
        }
      ],
      "source": [
        "#7\n",
        "from datetime import datetime\n",
        "ano = datetime.now().year\n",
        "print(ano)\n"
      ]
    },
    {
      "cell_type": "code",
      "source": [
        "#8\n",
        "for i in range(0,11):\n",
        " if i % 3 == 0:\n",
        "   continue\n",
        "   print(i)\n",
        "\n",
        "\n"
      ],
      "metadata": {
        "id": "ilYnb2mc1wkL"
      },
      "execution_count": 13,
      "outputs": []
    },
    {
      "cell_type": "code",
      "source": [
        "#9\n",
        "frase = input('Digite uma frase: ')\n",
        "tamanho_frase = len (frase)\n",
        "if tamanho_frase % 2 == 0:\n",
        "    print('O tamanho da frase é par')\n",
        "else:\n",
        "    print('O tamanho da frase é impar')"
      ],
      "metadata": {
        "colab": {
          "base_uri": "https://localhost:8080/"
        },
        "id": "5bX5gqEr16cL",
        "outputId": "9eaea760-f7f0-4a53-fce7-43ec1426f170"
      },
      "execution_count": 8,
      "outputs": [
        {
          "output_type": "stream",
          "name": "stdout",
          "text": [
            "Digite uma frase: paralelepipedo\n",
            "O tamanho da frase é par\n"
          ]
        }
      ]
    },
    {
      "cell_type": "code",
      "source": [
        "#10\n",
        "pote_a = input('Digite o valor do primeiro pote: ')\n",
        "pote_b = input('Digite o valor do segundo pote: ')\n",
        "pote_a = int(pote_a)\n",
        "pote_b = int(pote_b)\n",
        "if pote_a > pote_b:\n",
        "    print('O primeiro pote é maior')\n",
        "else:\n",
        "    print('O segundo pote é maior')"
      ],
      "metadata": {
        "colab": {
          "base_uri": "https://localhost:8080/"
        },
        "id": "4fzVLfy123Xa",
        "outputId": "a1dbc5b6-5bd9-40f0-8974-082c7e2181a7"
      },
      "execution_count": 9,
      "outputs": [
        {
          "output_type": "stream",
          "name": "stdout",
          "text": [
            "Digite o valor do primeiro pote: 2\n",
            "Digite o valor do segundo pote: 5\n",
            "O segundo pote é maior\n"
          ]
        }
      ]
    }
  ]
}